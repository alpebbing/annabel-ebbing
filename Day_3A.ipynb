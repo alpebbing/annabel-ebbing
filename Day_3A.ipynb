{
 "cells": [
  {
   "cell_type": "markdown",
   "metadata": {},
   "source": [
    "# Functions\n",
    "\n",
    "def **function_name()**:\n",
    "    \n",
    "    *Your code goes here*\n",
    "    \n",
    "    value = \"Do something useful\"\n",
    "    \n",
    "    return value\n",
    "\n",
    "\n",
    "def function_name(parameter1, parameter2):\n",
    "    #Your code goes here\n",
    "    \n",
    "    value = parameter1\n",
    "    \n",
    "    return value\n",
    "\n",
    "test = function_name(\"Hello\", ”Functions\")\n"
   ]
  },
  {
   "cell_type": "code",
   "execution_count": 6,
   "metadata": {},
   "outputs": [
    {
     "name": "stdout",
     "output_type": "stream",
     "text": [
      "Hello World!\n",
      "1\n",
      "2\n",
      "3\n"
     ]
    }
   ],
   "source": [
    "def hello_functions():\n",
    "    value = \"Hello World!\"\n",
    "    return value\n",
    "\n",
    "hello = hello_functions()\n",
    "print hello\n",
    "\n",
    "# Define a function to print a list\n",
    "# You can pass your own list to the function to perform some calculates on it\n",
    "def print_list(my_list):\n",
    "    for item in my_list:\n",
    "        print item\n",
    "\n",
    "test_list = [1,2,3]\n",
    "print_list(test_list)\n"
   ]
  },
  {
   "cell_type": "markdown",
   "metadata": {},
   "source": [
    "### Functions and Lists\n",
    "\n",
    "Let us write a function to calculate sum of all numbers given in a list.\n",
    "\n",
    "Play with the function sum_list and calculate sum of 2 different lists: \n",
    "\n",
    "    Sum of arithmetic progression  1,2,...100.\n",
    "    \n",
    "    Sum of series 1,1/2, 1/3, 1/4 …, 1/100.\n",
    "    \n",
    "    "
   ]
  },
  {
   "cell_type": "code",
   "execution_count": 79,
   "metadata": {
    "scrolled": true
   },
   "outputs": [
    {
     "name": "stdout",
     "output_type": "stream",
     "text": [
      "6\n",
      "[1, 2, 3, 4, 5, 6, 7, 8, 9, 10, 11, 12, 13, 14, 15, 16, 17, 18, 19, 20, 21, 22, 23, 24, 25, 26, 27, 28, 29, 30, 31, 32, 33, 34, 35, 36, 37, 38, 39, 40, 41, 42, 43, 44, 45, 46, 47, 48, 49, 50, 51, 52, 53, 54, 55, 56, 57, 58, 59, 60, 61, 62, 63, 64, 65, 66, 67, 68, 69, 70, 71, 72, 73, 74, 75, 76, 77, 78, 79, 80, 81, 82, 83, 84, 85, 86, 87, 88, 89, 90, 91, 92, 93, 94, 95, 96, 97, 98, 99, 100]\n",
      "5050\n",
      "[1.0, 0.5, 0.3333333333333333, 0.25, 0.2, 0.16666666666666666, 0.14285714285714285, 0.125, 0.1111111111111111, 0.1, 0.09090909090909091, 0.08333333333333333, 0.07692307692307693, 0.07142857142857142, 0.06666666666666667, 0.0625, 0.058823529411764705, 0.05555555555555555, 0.05263157894736842, 0.05, 0.047619047619047616, 0.045454545454545456, 0.043478260869565216, 0.041666666666666664, 0.04, 0.038461538461538464, 0.037037037037037035, 0.03571428571428571, 0.034482758620689655, 0.03333333333333333, 0.03225806451612903, 0.03125, 0.030303030303030304, 0.029411764705882353, 0.02857142857142857, 0.027777777777777776, 0.02702702702702703, 0.02631578947368421, 0.02564102564102564, 0.025, 0.024390243902439025, 0.023809523809523808, 0.023255813953488372, 0.022727272727272728, 0.022222222222222223, 0.021739130434782608, 0.02127659574468085, 0.020833333333333332, 0.02040816326530612, 0.02, 0.0196078431372549, 0.019230769230769232, 0.018867924528301886, 0.018518518518518517, 0.01818181818181818, 0.017857142857142856, 0.017543859649122806, 0.017241379310344827, 0.01694915254237288, 0.016666666666666666, 0.01639344262295082, 0.016129032258064516, 0.015873015873015872, 0.015625, 0.015384615384615385, 0.015151515151515152, 0.014925373134328358, 0.014705882352941176, 0.014492753623188406, 0.014285714285714285, 0.014084507042253521, 0.013888888888888888, 0.0136986301369863, 0.013513513513513514, 0.013333333333333334, 0.013157894736842105, 0.012987012987012988, 0.01282051282051282, 0.012658227848101266, 0.0125, 0.012345679012345678, 0.012195121951219513, 0.012048192771084338, 0.011904761904761904, 0.011764705882352941, 0.011627906976744186, 0.011494252873563218, 0.011363636363636364, 0.011235955056179775, 0.011111111111111112, 0.01098901098901099, 0.010869565217391304, 0.010752688172043012, 0.010638297872340425, 0.010526315789473684, 0.010416666666666666, 0.010309278350515464, 0.01020408163265306, 0.010101010101010102, 0.01]\n",
      "('the sum of the series =', 5.187377517639621)\n"
     ]
    }
   ],
   "source": [
    "# Define a function to calculate sum of all the elements in the list\n",
    "def sum_list(list):\n",
    "    total = 0 # To store the sum of all the numbers in the list\n",
    "    # Loop over the list and add\n",
    "    # each value of the list to total\n",
    "    for item in list:\n",
    "        total += item # adds the item to the total; is same as total = total + item\n",
    "    # return total\n",
    "    return total #If you do not return total nothing will be passed!!\n",
    "\n",
    "test = [1,2,3]\n",
    "print sum_list(test) # The value returned by the function sum_list will be printed out \n",
    "\n",
    "# Calculate the sum of all numbers from 1 to 100\n",
    "\n",
    "\n",
    "test_ari = range(1,101)\n",
    "print test_ari\n",
    "\n",
    "print sum_list(test_ari)\n",
    "\n",
    "\n",
    "# Calculate the sum of the series 1, 1/2, 1/3, 1/4, ..., 1/100\n",
    "s = []\n",
    "\n",
    "for i in test_ari:\n",
    "    s.append(float(1.0/i))\n",
    "    \n",
    "print s\n",
    "print (\"the sum of the series =\", sum_list(s))\n"
   ]
  },
  {
   "cell_type": "markdown",
   "metadata": {},
   "source": [
    "### Functions and Lists - Exercise \n",
    "\n",
    "Now lets try to write a function to get all codons from the sequence: 'ACGATCGATCGTACGATCGATACG'\n"
   ]
  },
  {
   "cell_type": "code",
   "execution_count": 95,
   "metadata": {},
   "outputs": [
    {
     "name": "stdout",
     "output_type": "stream",
     "text": [
      "['ACG', 'ATC', 'GAT', 'CGT', 'ACG', 'ATC', 'GAT', 'ACG']\n"
     ]
    }
   ],
   "source": [
    "def get_codons(seq):\n",
    "    codons = []\n",
    "    for cod in range(0, len(seq),3):\n",
    "        triplet = seq[cod:cod+3]\n",
    "        codons.append(triplet)\n",
    "    return  codons\n",
    "\n",
    "#codlistb = []\n",
    "#for i in sequence:\n",
    "#    codlistb = i\n",
    "#    print codlistb\n",
    "    #Make an empty list that will contain codons\n",
    "    #Loop over the seq to get all codons\n",
    "    #for codon in range(?,len(seq),?):\n",
    "        # Append your list with the codon from seq\n",
    "        # You can return the list containing codons\n",
    "        #return #your list #make sure that the return function is indented properly!!\n",
    "\n",
    "sequence = 'ACGATCGATCGTACGATCGATACG'\n",
    "\n",
    "print get_codons(sequence)\n",
    "\n",
    "#print ?(?) # call the function and pass the sequence to the function"
   ]
  },
  {
   "cell_type": "markdown",
   "metadata": {},
   "source": [
    "## Functions and Dictionaries\n",
    "\n",
    "Write a function to calculate number of times a codon is used in the sequence: 'ACGATCGATCGTACGATCGATACG’.\n",
    "\n",
    "Remember a dictionary can be defined as:\n",
    "\n",
    "my_var = {'key':'value'}"
   ]
  },
  {
   "cell_type": "code",
   "execution_count": 6,
   "metadata": {},
   "outputs": [
    {
     "name": "stdout",
     "output_type": "stream",
     "text": [
      "{'GAT': 2, 'ACG': 3, 'ATC': 2, 'CGT': 1}\n"
     ]
    }
   ],
   "source": [
    "def get_counts(seq):\n",
    "    coddic = {} # Make an empty dictionary to store codons\n",
    "    for i in range(0,len(seq),3):\n",
    "        codon = seq[i:i+3]     \n",
    "        if codon in coddic:\n",
    "            coddic[codon] += 1\n",
    "        else:\n",
    "            coddic[codon] = 1 \n",
    "        # If the codon is already within your\n",
    "        # dictionary then increase its count\n",
    "        # otherwise add it to the dictionary with and assign it's count as 1\n",
    "    return coddic\n",
    "\n",
    "sequence = 'ACGATCGATCGTACGATCGATACG'\n",
    "\n",
    "print get_counts(sequence)\n"
   ]
  },
  {
   "cell_type": "markdown",
   "metadata": {},
   "source": [
    "## Functions: Exercise\n",
    "\n",
    "1. Make a function **get_counts** and count the number of times each dinucleotide (AA, AC, AT, AG, …., GC, GG) occurs in a sequence.\n",
    "\n",
    "2. Use HIV_gag.fasta sequence given below to calculate nucleotide counts, dinucleotide counts and codon counts using the same function **get_counts**.\n",
    "\n",
    "3. Make a function translate_dna to translate each codon into amino acid according to the genetic code. You can use the code given in the code hint to create a dictionary for the genetic code.\n",
    "\n",
    "4. Translate hiv_gag sequence into its protein sequence\n"
   ]
  },
  {
   "cell_type": "code",
   "execution_count": 63,
   "metadata": {
    "scrolled": false
   },
   "outputs": [
    {
     "name": "stdout",
     "output_type": "stream",
     "text": [
      "{'AC': 2, 'GT': 1, 'CG': 1, 'GA': 4, 'TC': 3, 'TA': 1}\n",
      "{'GAT': 2, 'ACG': 3, 'ATC': 2, 'CGT': 1}\n",
      "counts in hiv_gag: {'AA': 306, 'AC': 118, 'GT': 88, 'AG': 243, 'CC': 99, 'CA': 182, 'CG': 10, 'TC': 68, 'GG': 148, 'GC': 81, 'AT': 164, 'GA': 181, 'TG': 107, 'CT': 75, 'TT': 119, 'TA': 165}\n",
      "counts in hiv_gag: {'A': 1665, 'C': 732, 'T': 905, 'G': 1006}\n",
      "{'reading frame 1': 'TIDRTIDT', 'reading frame 2': 'RSIVRSI', 'reading frame 3': 'DRSYDRY'}\n",
      "{'reading frame 1': 'MGARASVLSGGELDRWEKIRLRPGGKKKYKLKHIVWASRELERFAVNPGLLETSEGCRQILGQLQPSLQTGSEELRSLYNTVATLYCVHQRIEIKDTKEALDKIEEEQNKSKKKAQQAAADTGHSNQVSQNYPIVQNIQGQMVHQAISPRTLNAWVKVVEEKAFSPEVIPMFSALSEGATPQDLNTMLNTVGGHQAAMQMLKETINEEAAEWDRVHPVHAGPIAPGQMREPRGSDIAGTTSTLQEQIGWMTNNPPIPVGEIYKRWIILGLNKIVRMYSPTSILDIRQGPKEPFRDYVDRFYKTLRAEQASQEVKNWMTETLLVQNANPDCKTILKALGPAATLEEMMTACQGVGGPGHKARVLAEAMSQVTNSATIMMQRGNFRNQRKIVKCFNCGKEGHTARNCRAPRKKGCWKCGKEGHQMKDCTERQANFLGKIWPSYKGRPGNFLQSRPEPTAPPEESFRSGVETTTPPQKQEPIDKELYPLTSLRSLFGNDPSSQ*R*GGN*RKLY*IQEQMIQY*KK*VCQEDGNQK**GELEVLSK*DSMIRYS*KSVDIKL*VQY**DLHLST*LEEIC*LRLVAL*IFPLALLRLYQ*N*SQEWMAQKLNNGH*QKKK*KH**KFVQRWKRKGKFQKLGLKIHTILQYLP*RKKTVLNGEN**ISENLIRELKTSGKFN*EYHIPQG*KRKNQ*QYWMWVMHIFQFP*MKTSGSILHLPYLV*TMRHQGLDISTMCFHRDGKDHQQYSKVA*QKS*SLLENKIQT*LSINTWMICM*DLT*K*GSIEQK*RS*DNIC*GGDLPHQTKNIRKNLHSFGWVMNSILINGQYSL*CCQKKTAGLSMTYRS*WGN*IGQVRFTQGLK*GNYVNSLEEPKH*QK*YH*QKKQS*NWQKTERF*KNQYMECIMTHQKT**QKYRSRGKANGHIKFIKSHLKI*KQENMQE*GVPTLMM*NN*QRQCKK*PQKA**YGERLLNLNCPYKRKHGKHGGQSIGKPPGFLSGSLLIPLP**NYGTS*RKNP**EQKPSM*MGQLTGRLN*EKQDMLLIEEDKKLSP*LTQQIRRLSYKQFI*LCRIRD*K*T**QTHNMH*ESFKHNQIKVNQS*SIK**SS**KRKRSIWHGYQHTKELEEMNK*IN*SVLESGKYYF*ME*IRPKMNMRNITVIGEQWLVILTCHL**QKK**PAVINVS*KEKPCMDK*TVVQEYGN*IVHI*KEKLSW*QFM*PVDI*KQKLFQQKQGRKQHIFF*N*QEDGQ*KQYILTMAAISPVLRLGPPVGGRESSRNLEFPTIPKVKE**NL*IKN*RKL*DR*EIRLNILRQQYKWQYSSTILKEKGGLGGTVQGKE**T**QQTYKLKNYKNKLQKFKIFGFITGTAEIHFGKDQQSSSGKVKGQ**YKIIVT*K*CQEEKQRSLGIMENRWQVMIVWQVDRMRIS', 'reading frame 2': 'WVRERQY*AGEN*IDGKKFG*GQGERKNIN*NI*YGQAGS*NDSQLILAC*KHQKAVDKYWDSYNHPFRQDQKNLDHYIIQ*QPSIVCIKG*R*KTPRKL*TR*RKSKTKVRKKHSKQQLTQDTAIRSAKITL*CRTSRGKWYIRPYHLEL*MHG*K**KRRLSAQK*YPCFQHYQKEPPHKI*TPC*TQWGDIKQPCKC*KRPSMRKLQNGIECIQCMQGLLHQAR*ENQGEVT*QELLVPFRNK*DG*QIIHLSQ*EKFIKDG*SWD*IK**ECIALPAFWT*DKDQRNPLETM*TGSIKL*EPSKLHRR*KIG*QKPCWSKMRTQIVRLF*KHWDQRLH*KK**QHVRE*EDPAIRQEFWLKQ*AK*QIQLP**CREAILGTKERLLSVSIVAKKGTQPEIAGPLGKRAVGNVERKDTK*KIVLRDRLIF*GRSGLPTREGQGIFFRADQSQQPHQKRASGLG*RQQLPLRSRSR*TRNCIL*LPSGHSLATTPRHNKDRGATKGSSIRYRSR*YSIRRNEFARKMETKNDRGNWRFYQSKTV*SDTHRNLWT*SYRYSISRTYTCQHNWKKSVDSDWLHFKFSH*PY*DCTSKIKARNGWPKS*TMAIDRRKNKSISRNLYRDGKGRENFKNWA*KSIQYSSICHKEKRQY*MEKISRFQRT**ENSRLLGSSIRNTTSRRVKKEKISNSTGCG*CIFFSSLR*RLQEVYCIYHT*YKQ*DTRD*ISVQCASTGMERITSNIPK*HDKNLRAF*KTKSRHSYLSIHG*FVCRI*LRNRAA*NKNRGAETTSVEVGTYHTRQKTSERTSIPLDGL*TPS**MDSTAYSAARKRQLDCQ*HTEVSGEIELGKSDLPRD*SKAIM*TP*RNQSTNRSNTTNRRSRARTGRKQRDSKRTSTWSVL*PIKRLNSRNTEAGARPMDISNLSRAI*KSENRKICKNEGCPH**CKTINRGSAKNNHRKHSNMGKDS*I*TAHTKGNMGNMVDRVLASHLDS*VGVC*YPSLSEIMVPVRERTHSRSRNLLCRWGS*QGD*IRKSRICY**RKTKSCHPN*HNKSED*VTSNLSSFAGFGIRSKHSNRLTICIRNHSSTTRSK*IRVSQSNNRAVNKKGKGLSGMGTSTQRNWRK*TSR*ISQCWNQESTIFRWNR*GPR*T*EISQ*LESNG**F*PATCSSKRNSSQL**MSAKRRSHAWTSRL*SRNMATRLYTFRRKSYPGSSSCSQWIYRSRSYSSRNRAGNSIFSFKISRKMASKNNTY*QWQQFHRCYG*GRLLVGGNQAGIWNSLQSPKSRSSRIYE*RIKENYRTGKRSG*TS*DSSTNGSIHPQF*KKRGDWGVQCRGKNSRHNSNRHTN*RITKTNYKNSKFSGLLQGQQKSTLERTSKAPLER*RGSSNTR***HKSSAKKKSKDH*GLWKTDGR**LCGK*TG*GL', 'reading frame 3': 'GCESVSIKRGRIRSMGKNSVKARGKEKI*IKTYSMGKQGARTIRS*SWPVRNIRRL*TNTGTATTIPSDRIRRT*III*YSSNPLLCASKDRDKRHQGSFRQDRGRAKQK*EKSTASSS*HRTQQSGQPKLPYSAEHPGANGTSGHIT*NFKCMGKSSRREGFQPRSDTHVFSIIRRSHPTRFKHHAKHSGGTSSSHANVKRDHQ*GSCRMG*SASSACRAYCTRPDERTKGK*HSRNY*YPSGTNRMDDK*STYPSRRNL*KMDNPGIK*NSKNV*PYQHSGHKTRTKGTL*RLCRPVL*NSKSRASFTGGKKLDDRNLVGPKCEPRL*DYFKSIGTSGYTRRNDDSMSGSRRTRP*GKSFG*SNEPSNKFSYHNDAERQF*EPKKDC*VFQLWQRRAHSQKLQGP*EKGLLEMWKGRTPNERLY*ETG*FFREDLAFLQGKAREFSSEQTRANSPTRRELQVWGRDNNSPSEAGADRQGTVSFNFPQVTLWQRPLVTIKIGGQLKEALLDTGADDTVLEEMSLPGRWKPKMIGGIGGFIKVRQYDQILIEICGHKAIGTVLVGPTPVNIIGRNLLTQIGCTLNFPISPIETVPVKLKPGMDGPKVKQWPLTEEKIKALVEICTEMEKEGKISKIGPENPYNTPVFAIKKKDSTKWRKLVDFRELNKRTQDFWEVQLGIPHPAGLKKKKSVTVLDVGDAYFSVPLDEDFRKYTAFTIPSINNETPGIRYQYNVLPQGWKGSPAIFQSSMTKILEPFRKQNPDIVIYQYMDDLYVGSDLEIGQHRTKIEELRQHLLRWGLTTPDKKHQKEPPFLWMGYELHPDKWTVQPIVLPEKDSWTVNDIQKLVGKLNWASQIYPGIKVRQLCKLLRGTKALTEVIPLTEEAELELAENREILKEPVHGVYYDPSKDLIAEIQKQGQGQWTYQIYQEPFKNLKTGKYARMRGAHTNDVKQLTEAVQKITTESIVIWGKTPKFKLPIQKETWETWWTEYWQATWIPEWEFVNTPPLVKLWYQLEKEPIVGAETFYVDGAANRETKLGKAGYVTNRGRQKVVTLTDTTNQKTELQAIYLALQDSGLEVNIVTDSQYALGIIQAQPDQSESELVNQIIEQLIKKEKVYLAWVPAHKGIGGNEQVDKLVSAGIRKVLFLDGIDKAQDEHEKYHSNWRAMASDFNLPPVVAKEIVASCDKCQLKGEAMHGQVDCSPGIWQLDCTHLEGKVILVAVHVASGYIEAEVIPAETGQETAYFLLKLAGRWPVKTIHTDNGSNFTGATVRAACWWAGIKQEFGIPYNPQSQGVVESMNKELKKIIGQVRDQAEHLKTAVQMAVFIHNFKRKGGIGGYSAGERIVDIIATDIQTKELQKQITKIQNFRVYYRDSRNPLWKGPAKLLWKGEGAVVIQDNSDIKVVPRRKAKIIRDYGKQMAGDDCVASRQDED*'}\n"
     ]
    }
   ],
   "source": [
    "def get_di_counts(seq):\n",
    "    coddic = {} # Make an empty dictionary to store codons\n",
    "    for i in range(0,len(seq),2):\n",
    "        codon = seq[i:i+2]     \n",
    "        if codon in coddic:\n",
    "            coddic[codon] += 1\n",
    "        else:\n",
    "            coddic[codon] = 1 \n",
    "        # If the codon is already within your\n",
    "        # dictionary then increase its count\n",
    "        # otherwise add it to the dictionary with and assign it's count as 1\n",
    "    return coddic\n",
    "\n",
    "def get_mono_counts(seq):\n",
    "    coddic = {} # Make an empty dictionary to store codons\n",
    "    for i in range(0,len(seq),1):\n",
    "        codon = seq[i:i+1]     \n",
    "        if codon in coddic:\n",
    "            coddic[codon] += 1\n",
    "        else:\n",
    "            coddic[codon] = 1 \n",
    "        # If the codon is already within your\n",
    "        # dictionary then increase its count\n",
    "        # otherwise add it to the dictionary with and assign it's count as 1\n",
    "    return coddic\n",
    "\n",
    "sequence = 'ACGATCGATCGTACGATCGATACG'\n",
    "\n",
    "print get_di_counts(sequence)\n",
    "print get_counts(sequence)\n",
    "\n",
    "#HIV-1 gag sequence\n",
    "hiv_gag = 'ATGGGTGCGAGAGCGTCAGTATTAAGCGGGGGAGAATTAGATCGATGGGAAAAAATTCGGTTAAGGCCAGGGGGAAAGAAAAAATATAAATTAAAACATATAGTATGGGCAAGCAGGGAGCTAGAACGATTCGCAGTTAATCCTGGCCTGTTAGAAACATCAGAAGGCTGTAGACAAATACTGGGACAGCTACAACCATCCCTTCAGACAGGATCAGAAGAACTTAGATCATTATATAATACAGTAGCAACCCTCTATTGTGTGCATCAAAGGATAGAGATAAAAGACACCAAGGAAGCTTTAGACAAGATAGAGGAAGAGCAAAACAAAAGTAAGAAAAAAGCACAGCAAGCAGCAGCTGACACAGGACACAGCAATCAGGTCAGCCAAAATTACCCTATAGTGCAGAACATCCAGGGGCAAATGGTACATCAGGCCATATCACCTAGAACTTTAAATGCATGGGTAAAAGTAGTAGAAGAGAAGGCTTTCAGCCCAGAAGTGATACCCATGTTTTCAGCATTATCAGAAGGAGCCACCCCACAAGATTTAAACACCATGCTAAACACAGTGGGGGGACATCAAGCAGCCATGCAAATGTTAAAAGAGACCATCAATGAGGAAGCTGCAGAATGGGATAGAGTGCATCCAGTGCATGCAGGGCCTATTGCACCAGGCCAGATGAGAGAACCAAGGGGAAGTGACATAGCAGGAACTACTAGTACCCTTCAGGAACAAATAGGATGGATGACAAATAATCCACCTATCCCAGTAGGAGAAATTTATAAAAGATGGATAATCCTGGGATTAAATAAAATAGTAAGAATGTATAGCCCTACCAGCATTCTGGACATAAGACAAGGACCAAAGGAACCCTTTAGAGACTATGTAGACCGGTTCTATAAAACTCTAAGAGCCGAGCAAGCTTCACAGGAGGTAAAAAATTGGATGACAGAAACCTTGTTGGTCCAAAATGCGAACCCAGATTGTAAGACTATTTTAAAAGCATTGGGACCAGCGGCTACACTAGAAGAAATGATGACAGCATGTCAGGGAGTAGGAGGACCCGGCCATAAGGCAAGAGTTTTGGCTGAAGCAATGAGCCAAGTAACAAATTCAGCTACCATAATGATGCAGAGAGGCAATTTTAGGAACCAAAGAAAGATTGTTAAGTGTTTCAATTGTGGCAAAGAAGGGCACACAGCCAGAAATTGCAGGGCCCCTAGGAAAAAGGGCTGTTGGAAATGTGGAAAGGAAGGACACCAAATGAAAGATTGTACTGAGAGACAGGCTAATTTTTTAGGGAAGATCTGGCCTTCCTACAAGGGAAGGCCAGGGAATTTTCTTCAGAGCAGACCAGAGCCAACAGCCCCACCAGAAGAGAGCTTCAGGTCTGGGGTAGAGACAACAACTCCCCCTCAGAAGCAGGAGCCGATAGACAAGGAACTGTATCCTTTAACTTCCCTCAGGTCACTCTTTGGCAACGACCCCTCGTCACAATAAAGATAGGGGGGCAACTAAAGGAAGCTCTATTAGATACAGGAGCAGATGATACAGTATTAGAAGAAATGAGTTTGCCAGGAAGATGGAAACCAAAAATGATAGGGGGAATTGGAGGTTTTATCAAAGTAAGACAGTATGATCAGATACTCATAGAAATCTGTGGACATAAAGCTATAGGTACAGTATTAGTAGGACCTACACCTGTCAACATAATTGGAAGAAATCTGTTGACTCAGATTGGTTGCACTTTAAATTTTCCCATTAGCCCTATTGAGACTGTACCAGTAAAATTAAAGCCAGGAATGGATGGCCCAAAAGTTAAACAATGGCCATTGACAGAAGAAAAAATAAAAGCATTAGTAGAAATTTGTACAGAGATGGAAAAGGAAGGGAAAATTTCAAAAATTGGGCCTGAAAATCCATACAATACTCCAGTATTTGCCATAAAGAAAAAAGACAGTACTAAATGGAGAAAATTAGTAGATTTCAGAGAACTTAATAAGAGAACTCAAGACTTCTGGGAAGTTCAATTAGGAATACCACATCCCGCAGGGTTAAAAAAGAAAAAATCAGTAACAGTACTGGATGTGGGTGATGCATATTTTTCAGTTCCCTTAGATGAAGACTTCAGGAAGTATACTGCATTTACCATACCTAGTATAAACAATGAGACACCAGGGATTAGATATCAGTACAATGTGCTTCCACAGGGATGGAAAGGATCACCAGCAATATTCCAAAGTAGCATGACAAAAATCTTAGAGCCTTTTAGAAAACAAAATCCAGACATAGTTATCTATCAATACATGGATGATTTGTATGTAGGATCTGACTTAGAAATAGGGCAGCATAGAACAAAAATAGAGGAGCTGAGACAACATCTGTTGAGGTGGGGACTTACCACACCAGACAAAAAACATCAGAAAGAACCTCCATTCCTTTGGATGGGTTATGAACTCCATCCTGATAAATGGACAGTACAGCCTATAGTGCTGCCAGAAAAAGACAGCTGGACTGTCAATGACATACAGAAGTTAGTGGGGAAATTGAATTGGGCAAGTCAGATTTACCCAGGGATTAAAGTAAGGCAATTATGTAAACTCCTTAGAGGAACCAAAGCACTAACAGAAGTAATACCACTAACAGAAGAAGCAGAGCTAGAACTGGCAGAAAACAGAGAGATTCTAAAAGAACCAGTACATGGAGTGTATTATGACCCATCAAAAGACTTAATAGCAGAAATACAGAAGCAGGGGCAAGGCCAATGGACATATCAAATTTATCAAGAGCCATTTAAAAATCTGAAAACAGGAAAATATGCAAGAATGAGGGGTGCCCACACTAATGATGTAAAACAATTAACAGAGGCAGTGCAAAAAATAACCACAGAAAGCATAGTAATATGGGGAAAGACTCCTAAATTTAAACTGCCCATACAAAAGGAAACATGGGAAACATGGTGGACAGAGTATTGGCAAGCCACCTGGATTCCTGAGTGGGAGTTTGTTAATACCCCTCCCTTAGTGAAATTATGGTACCAGTTAGAGAAAGAACCCATAGTAGGAGCAGAAACCTTCTATGTAGATGGGGCAGCTAACAGGGAGACTAAATTAGGAAAAGCAGGATATGTTACTAATAGAGGAAGACAAAAAGTTGTCACCCTAACTGACACAACAAATCAGAAGACTGAGTTACAAGCAATTTATCTAGCTTTGCAGGATTCGGGATTAGAAGTAAACATAGTAACAGACTCACAATATGCATTAGGAATCATTCAAGCACAACCAGATCAAAGTGAATCAGAGTTAGTCAATCAAATAATAGAGCAGTTAATAAAAAAGGAAAAGGTCTATCTGGCATGGGTACCAGCACACAAAGGAATTGGAGGAAATGAACAAGTAGATAAATTAGTCAGTGCTGGAATCAGGAAAGTACTATTTTTAGATGGAATAGATAAGGCCCAAGATGAACATGAGAAATATCACAGTAATTGGAGAGCAATGGCTAGTGATTTTAACCTGCCACCTGTAGTAGCAAAAGAAATAGTAGCCAGCTGTGATAAATGTCAGCTAAAAGGAGAAGCCATGCATGGACAAGTAGACTGTAGTCCAGGAATATGGCAACTAGATTGTACACATTTAGAAGGAAAAGTTATCCTGGTAGCAGTTCATGTAGCCAGTGGATATATAGAAGCAGAAGTTATTCCAGCAGAAACAGGGCAGGAAACAGCATATTTTCTTTTAAAATTAGCAGGAAGATGGCCAGTAAAAACAATACATACTGACAATGGCAGCAATTTCACCGGTGCTACGGTTAGGGCCGCCTGTTGGTGGGCGGGAATCAAGCAGGAATTTGGAATTCCCTACAATCCCCAAAGTCAAGGAGTAGTAGAATCTATGAATAAAGAATTAAAGAAAATTATAGGACAGGTAAGAGATCAGGCTGAACATCTTAAGACAGCAGTACAAATGGCAGTATTCATCCACAATTTTAAAAGAAAAGGGGGGATTGGGGGGTACAGTGCAGGGGAAAGAATAGTAGACATAATAGCAACAGACATACAAACTAAAGAATTACAAAAACAAATTACAAAAATTCAAAATTTTCGGGTTTATTACAGGGACAGCAGAAATCCACTTTGGAAAGGACCAGCAAAGCTCCTCTGGAAAGGTGAAGGGGCAGTAGTAATACAAGATAATAGTGACATAAAAGTAGTGCCAAGAAGAAAAGCAAAGATCATTAGGGATTATGGAAAACAGATGGCAGGTGATGATTGTGTGGCAAGTAGACAGGATGAGGATTAGT'\n",
    "\n",
    "print \"counts in hiv_gag:\", get_di_counts(hiv_gag)\n",
    "\n",
    "print \"counts in hiv_gag:\", get_mono_counts(hiv_gag)\n",
    "\n",
    "#### Use this code to translate codons into amino acids according to the genetic code\n",
    "bases = [\"T\",\"C\",\"A\",\"G\"]\n",
    "codons = [a+b+c for a in bases for b in bases for c in bases]\n",
    "amino_acids = \"FFLLSSSSYY**CC*WLLLLPPPPHHQQRRRRIIIMTTTTNNKKSSRRVVVVAAAADDEEGGGG\"\n",
    "codon_table = dict(zip(codons, amino_acids))\n",
    "####\n",
    "\n",
    "s= \"\"\n",
    "\n",
    "def translate_dna(seqs):\n",
    "    translated = {}\n",
    "    tlist1 = []\n",
    "    tlist2 = []\n",
    "    tlist3 = []\n",
    "    for pos in range(0, len(seqs),3):\n",
    "        triplet = seqs[pos:pos+3]\n",
    "        triplet2 = seqs[pos+1:pos+4]\n",
    "        triplet3 = seqs[pos+2:pos+5]\n",
    "        if triplet in codon_table.keys():\n",
    "             tlist1.append(codon_table[triplet])\n",
    "        if triplet2 in codon_table.keys():\n",
    "             tlist2.append(codon_table[triplet2])\n",
    "        if triplet3 in codon_table.keys():\n",
    "             tlist3.append(codon_table[triplet3])\n",
    "    translated[\"reading frame 1\"] = s.join(tlist1)\n",
    "    translated[\"reading frame 2\"] = s.join(tlist2)\n",
    "    translated[\"reading frame 3\"] = s.join(tlist3)\n",
    "    return translated\n",
    "\n",
    "print translate_dna(sequence)\n",
    "print translate_dna(hiv_gag)"
   ]
  },
  {
   "cell_type": "code",
   "execution_count": null,
   "metadata": {
    "collapsed": true
   },
   "outputs": [],
   "source": [
    "# Duplicate of the previous cell (just in case you loose the sequence or the code)\n",
    "#HIV-1 gag sequence\n",
    "ATGGGTGCGAGAGCGTCAGTATTAAGCGGGGGAGAATTAGATCGATGGGAAAAAATTCGGTTAAGGCCAGGGGGAAAGAAAAAATATAAATTAAAACATATAGTATGGGCAAGCAGGGAGCTAGAACGATTCGCAGTTAATCCTGGCCTGTTAGAAACATCAGAAGGCTGTAGACAAATACTGGGACAGCTACAACCATCCCTTCAGACAGGATCAGAAGAACTTAGATCATTATATAATACAGTAGCAACCCTCTATTGTGTGCATCAAAGGATAGAGATAAAAGACACCAAGGAAGCTTTAGACAAGATAGAGGAAGAGCAAAACAAAAGTAAGAAAAAAGCACAGCAAGCAGCAGCTGACACAGGACACAGCAATCAGGTCAGCCAAAATTACCCTATAGTGCAGAACATCCAGGGGCAAATGGTACATCAGGCCATATCACCTAGAACTTTAAATGCATGGGTAAAAGTAGTAGAAGAGAAGGCTTTCAGCCCAGAAGTGATACCCATGTTTTCAGCATTATCAGAAGGAGCCACCCCACAAGATTTAAACACCATGCTAAACACAGTGGGGGGACATCAAGCAGCCATGCAAATGTTAAAAGAGACCATCAATGAGGAAGCTGCAGAATGGGATAGAGTGCATCCAGTGCATGCAGGGCCTATTGCACCAGGCCAGATGAGAGAACCAAGGGGAAGTGACATAGCAGGAACTACTAGTACCCTTCAGGAACAAATAGGATGGATGACAAATAATCCACCTATCCCAGTAGGAGAAATTTATAAAAGATGGATAATCCTGGGATTAAATAAAATAGTAAGAATGTATAGCCCTACCAGCATTCTGGACATAAGACAAGGACCAAAGGAACCCTTTAGAGACTATGTAGACCGGTTCTATAAAACTCTAAGAGCCGAGCAAGCTTCACAGGAGGTAAAAAATTGGATGACAGAAACCTTGTTGGTCCAAAATGCGAACCCAGATTGTAAGACTATTTTAAAAGCATTGGGACCAGCGGCTACACTAGAAGAAATGATGACAGCATGTCAGGGAGTAGGAGGACCCGGCCATAAGGCAAGAGTTTTGGCTGAAGCAATGAGCCAAGTAACAAATTCAGCTACCATAATGATGCAGAGAGGCAATTTTAGGAACCAAAGAAAGATTGTTAAGTGTTTCAATTGTGGCAAAGAAGGGCACACAGCCAGAAATTGCAGGGCCCCTAGGAAAAAGGGCTGTTGGAAATGTGGAAAGGAAGGACACCAAATGAAAGATTGTACTGAGAGACAGGCTAATTTTTTAGGGAAGATCTGGCCTTCCTACAAGGGAAGGCCAGGGAATTTTCTTCAGAGCAGACCAGAGCCAACAGCCCCACCAGAAGAGAGCTTCAGGTCTGGGGTAGAGACAACAACTCCCCCTCAGAAGCAGGAGCCGATAGACAAGGAACTGTATCCTTTAACTTCCCTCAGGTCACTCTTTGGCAACGACCCCTCGTCACAATAAAGATAGGGGGGCAACTAAAGGAAGCTCTATTAGATACAGGAGCAGATGATACAGTATTAGAAGAAATGAGTTTGCCAGGAAGATGGAAACCAAAAATGATAGGGGGAATTGGAGGTTTTATCAAAGTAAGACAGTATGATCAGATACTCATAGAAATCTGTGGACATAAAGCTATAGGTACAGTATTAGTAGGACCTACACCTGTCAACATAATTGGAAGAAATCTGTTGACTCAGATTGGTTGCACTTTAAATTTTCCCATTAGCCCTATTGAGACTGTACCAGTAAAATTAAAGCCAGGAATGGATGGCCCAAAAGTTAAACAATGGCCATTGACAGAAGAAAAAATAAAAGCATTAGTAGAAATTTGTACAGAGATGGAAAAGGAAGGGAAAATTTCAAAAATTGGGCCTGAAAATCCATACAATACTCCAGTATTTGCCATAAAGAAAAAAGACAGTACTAAATGGAGAAAATTAGTAGATTTCAGAGAACTTAATAAGAGAACTCAAGACTTCTGGGAAGTTCAATTAGGAATACCACATCCCGCAGGGTTAAAAAAGAAAAAATCAGTAACAGTACTGGATGTGGGTGATGCATATTTTTCAGTTCCCTTAGATGAAGACTTCAGGAAGTATACTGCATTTACCATACCTAGTATAAACAATGAGACACCAGGGATTAGATATCAGTACAATGTGCTTCCACAGGGATGGAAAGGATCACCAGCAATATTCCAAAGTAGCATGACAAAAATCTTAGAGCCTTTTAGAAAACAAAATCCAGACATAGTTATCTATCAATACATGGATGATTTGTATGTAGGATCTGACTTAGAAATAGGGCAGCATAGAACAAAAATAGAGGAGCTGAGACAACATCTGTTGAGGTGGGGACTTACCACACCAGACAAAAAACATCAGAAAGAACCTCCATTCCTTTGGATGGGTTATGAACTCCATCCTGATAAATGGACAGTACAGCCTATAGTGCTGCCAGAAAAAGACAGCTGGACTGTCAATGACATACAGAAGTTAGTGGGGAAATTGAATTGGGCAAGTCAGATTTACCCAGGGATTAAAGTAAGGCAATTATGTAAACTCCTTAGAGGAACCAAAGCACTAACAGAAGTAATACCACTAACAGAAGAAGCAGAGCTAGAACTGGCAGAAAACAGAGAGATTCTAAAAGAACCAGTACATGGAGTGTATTATGACCCATCAAAAGACTTAATAGCAGAAATACAGAAGCAGGGGCAAGGCCAATGGACATATCAAATTTATCAAGAGCCATTTAAAAATCTGAAAACAGGAAAATATGCAAGAATGAGGGGTGCCCACACTAATGATGTAAAACAATTAACAGAGGCAGTGCAAAAAATAACCACAGAAAGCATAGTAATATGGGGAAAGACTCCTAAATTTAAACTGCCCATACAAAAGGAAACATGGGAAACATGGTGGACAGAGTATTGGCAAGCCACCTGGATTCCTGAGTGGGAGTTTGTTAATACCCCTCCCTTAGTGAAATTATGGTACCAGTTAGAGAAAGAACCCATAGTAGGAGCAGAAACCTTCTATGTAGATGGGGCAGCTAACAGGGAGACTAAATTAGGAAAAGCAGGATATGTTACTAATAGAGGAAGACAAAAAGTTGTCACCCTAACTGACACAACAAATCAGAAGACTGAGTTACAAGCAATTTATCTAGCTTTGCAGGATTCGGGATTAGAAGTAAACATAGTAACAGACTCACAATATGCATTAGGAATCATTCAAGCACAACCAGATCAAAGTGAATCAGAGTTAGTCAATCAAATAATAGAGCAGTTAATAAAAAAGGAAAAGGTCTATCTGGCATGGGTACCAGCACACAAAGGAATTGGAGGAAATGAACAAGTAGATAAATTAGTCAGTGCTGGAATCAGGAAAGTACTATTTTTAGATGGAATAGATAAGGCCCAAGATGAACATGAGAAATATCACAGTAATTGGAGAGCAATGGCTAGTGATTTTAACCTGCCACCTGTAGTAGCAAAAGAAATAGTAGCCAGCTGTGATAAATGTCAGCTAAAAGGAGAAGCCATGCATGGACAAGTAGACTGTAGTCCAGGAATATGGCAACTAGATTGTACACATTTAGAAGGAAAAGTTATCCTGGTAGCAGTTCATGTAGCCAGTGGATATATAGAAGCAGAAGTTATTCCAGCAGAAACAGGGCAGGAAACAGCATATTTTCTTTTAAAATTAGCAGGAAGATGGCCAGTAAAAACAATACATACTGACAATGGCAGCAATTTCACCGGTGCTACGGTTAGGGCCGCCTGTTGGTGGGCGGGAATCAAGCAGGAATTTGGAATTCCCTACAATCCCCAAAGTCAAGGAGTAGTAGAATCTATGAATAAAGAATTAAAGAAAATTATAGGACAGGTAAGAGATCAGGCTGAACATCTTAAGACAGCAGTACAAATGGCAGTATTCATCCACAATTTTAAAAGAAAAGGGGGGATTGGGGGGTACAGTGCAGGGGAAAGAATAGTAGACATAATAGCAACAGACATACAAACTAAAGAATTACAAAAACAAATTACAAAAATTCAAAATTTTCGGGTTTATTACAGGGACAGCAGAAATCCACTTTGGAAAGGACCAGCAAAGCTCCTCTGGAAAGGTGAAGGGGCAGTAGTAATACAAGATAATAGTGACATAAAAGTAGTGCCAAGAAGAAAAGCAAAGATCATTAGGGATTATGGAAAACAGATGGCAGGTGATGATTGTGTGGCAAGTAGACAGGATGAGGATTAGT\n",
    "\n",
    "#### Use this code to translate codons into amino acids according to the genetic code\n",
    "bases = [\"T\",\"C\",\"A\",\"G\"]\n",
    "codons = [a+b+c for a in bases for b in bases for c in bases]\n",
    "amino_acids = \"FFLLSSSSYY**CC*WLLLLPPPPHHQQRRRRIIIMTTTTNNKKSSRRVVVVAAAADDEEGGGG\"\n",
    "codon_table = dict(zip(codons, amino_acids))\n",
    "####"
   ]
  },
  {
   "cell_type": "markdown",
   "metadata": {},
   "source": [
    "# Modules\n",
    "\n",
    "A module is a file consisting of Python code.\n",
    "\n",
    "A module allows you to logically organize your Python code.\n",
    "\n",
    "* To split it into several files for easier maintenance.\n",
    "    \n",
    "* To reuse that handy function that you’ve written in several programs, without copying it into every script.\n",
    "\n",
    "Remember we wrote a function to count the number of times a codon is used. We can store such functions in file so that we can use them later. We have stored get_counts and translate_dna into a file called **dna_tools.py** \n",
    "\n",
    "You can import a module in Python using its file name.\n",
    "\n",
    "Now load your dna_tools module and try to use both functions: get_counts and translate_dna."
   ]
  },
  {
   "cell_type": "code",
   "execution_count": 74,
   "metadata": {},
   "outputs": [
    {
     "name": "stdout",
     "output_type": "stream",
     "text": [
      "{'GAT': 1, 'GAC': 1, 'ATC': 1, 'CAT': 1}\n",
      "IDHD\n",
      "{'GAT': 1, 'GAC': 1, 'ATC': 1, 'CAT': 1}\n"
     ]
    }
   ],
   "source": [
    "import dna_tools #This calls the file dna_tools.py stored in the same folder\n",
    "\n",
    "seq2 = 'ATCGATCATGAC'\n",
    "print dna_tools.get_counts('ATCGATCATGAC')\n",
    "\n",
    "print dna_tools.translate_dna('ATCGATCATGAC')\n",
    "\n",
    "# You can also rename a module when you import it in Python and call the function inside the module.\n",
    "\n",
    "import dna_tools as tools\n",
    "\n",
    "print tools.get_counts('ATCGATCATGAC')"
   ]
  },
  {
   "cell_type": "markdown",
   "metadata": {},
   "source": [
    "## Built-in Modules\n",
    "\n",
    "Module is a little toolbox or kit which is a collection of functions\n",
    "\n",
    "Package is a collection of modules\n",
    "\n",
    "Some important (default) modules:\n",
    "\t- math\n",
    "\t- itertools\n",
    "\t- random\n",
    "\t- sys\n",
    "\t- dir\n",
    "\t- And many more: https://docs.python.org/2/library/index.html\n"
   ]
  },
  {
   "cell_type": "code",
   "execution_count": 93,
   "metadata": {},
   "outputs": [
    {
     "name": "stdout",
     "output_type": "stream",
     "text": [
      "3.16227766017\n",
      "5.1\n",
      "1024.0\n",
      "0.758644700085\n",
      "[13, 14, 0, 4, 7, 9, 1, 14, 2, 18]\n"
     ]
    }
   ],
   "source": [
    "import math\n",
    "\n",
    "print math.sqrt(10)\n",
    "\n",
    "print math.fabs(-5.1)\n",
    "\n",
    "print math.pow(2, 10)\n",
    "# Use the math package and find the solutions to the following:\n",
    "# Square root of 10\n",
    "# Absolute value of -5.1\n",
    "# 2^10\n",
    "\n",
    "# Use random module to generate a random number between 0 and 1.\n",
    "import random\n",
    "\n",
    "print random.random()\n",
    "\n",
    "# Use random module to generate 10 random integers between 0 and 20.\n",
    "\n",
    "random.randint(0, 20)\n",
    "\n",
    "print [random.randint(0,20) for r in xrange(10)]"
   ]
  },
  {
   "cell_type": "markdown",
   "metadata": {},
   "source": [
    "## Built-in Modules: Exercise\n",
    "\n",
    "1. Generate a random number, **ran**. If **ran** is 0 then print 'A', if **ran** is 1 then print 'T', if **ran** is 2 then print 'G', and if **ran** is 3 then print 'C'.\n",
    "\n",
    "2. Can you use another built-in function in random modules to directly generate 'ATGC's?\n",
    "\n",
    "3. Generate a dna sequence which is 500 bases long using the random module.\n",
    "\n",
    "4. Use the **dna_tools** module created by you to generate a di-nucleotide profile (i.e. frequency of AA, AT, ….GG) and tri-nucleotide profile of the dna sequence.  \n"
   ]
  },
  {
   "cell_type": "code",
   "execution_count": 5,
   "metadata": {},
   "outputs": [
    {
     "name": "stdout",
     "output_type": "stream",
     "text": [
      "T\n",
      "GATCCTGGCGGATGCCCAGTTGTCTTGCAAATGAACGATAGTATTCGGTACACTTTGGACAATCTGTGCCTTGGGGGGACGTGACTGAACTTACAGTGCGACTCCACCCGGGGCGAAGAGACGTCCGGTCCTGGGGGTGAAGCGCATAGTCCATACATTAGATCGTTAGTCGTTCCGCCGGGTGTTATTATGTGAGTGGTCGCGACGACCATCATCAGACTGTTGCATACCCGGCGTAACATTATACACTCAGCGCTTTCCGAGCACCTTTTATGCGGAGAAGCATGTATAAAGCCAAGAAACACATCACTATCTTCATTTGCTATGCGAAGGTGCGAACGTACAAACCCATCCGCAGGGTCGTCGTATCCACTATGACTTCATACCGTAAAGGCTCTTCTGTCGGCCTTCCCGTTCTTGCTCGGGCCCTTTCACCGAATCTTATTCTCCCCCCGCGTATTATCCCAACGCGCAATAGCTTCTCCGGACCCCAATACATT\n",
      "{'CTT': 5, 'ATG': 3, 'AAG': 2, 'ACG': 3, 'ATC': 3, 'AAC': 5, 'ATA': 3, 'AGG': 1, 'CCT': 2, 'CTC': 1, 'ACA': 3, 'AGA': 3, 'CAT': 3, 'AAT': 2, 'ATT': 4, 'CTG': 4, 'CTA': 2, 'ACT': 1, 'CAC': 3, 'CAA': 2, 'AGT': 2, 'CCA': 5, 'CCG': 4, 'CCC': 3, 'TAT': 1, 'GGT': 3, 'TGT': 1, 'CGA': 2, 'CAG': 1, 'TCT': 2, 'GAT': 2, 'CGG': 3, 'TTT': 2, 'TGC': 5, 'GGG': 5, 'TGA': 3, 'GGA': 2, 'GGC': 2, 'TAC': 2, 'GAG': 2, 'TCG': 4, 'TTA': 5, 'TTG': 4, 'TCC': 6, 'ACC': 4, 'TCA': 3, 'GCA': 3, 'GTA': 2, 'GCC': 1, 'GTC': 3, 'GCG': 3, 'GTG': 1, 'TTC': 3, 'GTT': 3, 'GCT': 3, 'GAC': 3, 'CGT': 2, 'GAA': 4, 'TT': 1, 'CGC': 2}\n",
      "{'AA': 10, 'AC': 17, 'GT': 14, 'AG': 12, 'CC': 22, 'CA': 15, 'CG': 17, 'TT': 17, 'GG': 17, 'GC': 12, 'AT': 18, 'GA': 16, 'TG': 13, 'TA': 15, 'TC': 19, 'CT': 16}\n"
     ]
    }
   ],
   "source": [
    "import random\n",
    "\n",
    "r = random.randint(0,3)\n",
    "\n",
    "def ran_one(seq):\n",
    "    #r = random.randint(0,3)\n",
    "    if seq == 0:\n",
    "        return 'A'\n",
    "    elif seq == 1:\n",
    "        return 'C'\n",
    "    elif seq == 2:\n",
    "        return 'G'\n",
    "    elif seq == 3:\n",
    "        return 'T'\n",
    "    \n",
    "\n",
    "print ran_one(r)\n",
    "\n",
    "# Check the https://docs.python.org/2/library/index.html to see how to generate random numbers\n",
    "# Import a module which you can use to create random numbers\n",
    "# Hint: use if elif conditions\n",
    "\n",
    "# Import a module which you can use to create random numbers\n",
    "# Use for loop to create random DNA sequence of length 500\n",
    "\n",
    "r500 = [random.randint(0,3) for r in xrange(500)]\n",
    "\n",
    "s = \"\"\n",
    "\n",
    "def ran_more(seq):\n",
    "    r_list = []\n",
    "    s = \"\"\n",
    "    for i in seq:\n",
    "        if i == 0:\n",
    "            r_list.append(\"A\")\n",
    "        elif i == 1:\n",
    "            r_list.append(\"C\")\n",
    "        elif i == 2:\n",
    "            r_list.append(\"G\")\n",
    "        elif i == 3:\n",
    "            r_list.append(\"T\")\n",
    "    return s.join(r_list)\n",
    "\n",
    "\n",
    "seq_r500 =  ran_more(r500)\n",
    "\n",
    "\n",
    "print seq_r500\n",
    "\n",
    "# Import dna_tools and access the functions defined in dna_tools\n",
    "\n",
    "import dna_tools\n",
    "\n",
    "print dna_tools.get_counts(seq_r500)\n",
    "\n",
    "print dna_tools.get_di_counts(seq_r500)"
   ]
  }
 ],
 "metadata": {
  "kernelspec": {
   "display_name": "Python 2",
   "language": "python",
   "name": "python2"
  },
  "language_info": {
   "codemirror_mode": {
    "name": "ipython",
    "version": 2
   },
   "file_extension": ".py",
   "mimetype": "text/x-python",
   "name": "python",
   "nbconvert_exporter": "python",
   "pygments_lexer": "ipython2",
   "version": "2.7.13"
  }
 },
 "nbformat": 4,
 "nbformat_minor": 1
}

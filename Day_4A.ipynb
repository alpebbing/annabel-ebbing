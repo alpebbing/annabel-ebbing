{
 "cells": [
  {
   "cell_type": "markdown",
   "metadata": {},
   "source": [
    "# Regex – Introduction\n",
    "\n",
    "- Keep it simple: Operators\n",
    "- Example:\n",
    "    - Find EcoRI restriction enzyme site in sequence:"
   ]
  },
  {
   "cell_type": "code",
   "execution_count": 1,
   "metadata": {},
   "outputs": [
    {
     "data": {
      "text/plain": [
       "True"
      ]
     },
     "execution_count": 1,
     "metadata": {},
     "output_type": "execute_result"
    }
   ],
   "source": [
    "string = \"TGCATAGCGAATTCGGACGT\"\n",
    "\"GAATTC\" in string"
   ]
  },
  {
   "cell_type": "markdown",
   "metadata": {},
   "source": [
    "- Find Eco13kl restriction site in sequence\n",
    "- CCNGG --> CCAGG, CCCGG, CCGGG or CCTGG"
   ]
  },
  {
   "cell_type": "code",
   "execution_count": 2,
   "metadata": {},
   "outputs": [
    {
     "data": {
      "text/plain": [
       "False"
      ]
     },
     "execution_count": 2,
     "metadata": {},
     "output_type": "execute_result"
    }
   ],
   "source": [
    "string = \"CCTGGAGCCCAGGGGACGT\"\n",
    "\"CCNGG \" in string"
   ]
  },
  {
   "cell_type": "code",
   "execution_count": 3,
   "metadata": {},
   "outputs": [
    {
     "data": {
      "text/plain": [
       "True"
      ]
     },
     "execution_count": 3,
     "metadata": {},
     "output_type": "execute_result"
    }
   ],
   "source": [
    "string = \"CCTGGAGCCCAGGGGACGT\"\n",
    "\"CCAGG\" in string"
   ]
  },
  {
   "cell_type": "code",
   "execution_count": 4,
   "metadata": {},
   "outputs": [
    {
     "data": {
      "text/plain": [
       "True"
      ]
     },
     "execution_count": 4,
     "metadata": {},
     "output_type": "execute_result"
    }
   ],
   "source": [
    "\"CCTGG\" in string"
   ]
  },
  {
   "cell_type": "code",
   "execution_count": 5,
   "metadata": {},
   "outputs": [
    {
     "data": {
      "text/plain": [
       "False"
      ]
     },
     "execution_count": 5,
     "metadata": {},
     "output_type": "execute_result"
    }
   ],
   "source": [
    "\"CCCGG\" in string"
   ]
  },
  {
   "cell_type": "code",
   "execution_count": 6,
   "metadata": {},
   "outputs": [
    {
     "data": {
      "text/plain": [
       "False"
      ]
     },
     "execution_count": 6,
     "metadata": {},
     "output_type": "execute_result"
    }
   ],
   "source": [
    "\"CCGGG\" in string"
   ]
  },
  {
   "cell_type": "markdown",
   "metadata": {},
   "source": [
    "# Regex – re.findall – exercise\n",
    "- Use re.findall to find:\n",
    "\n",
    "## EcoRI_site = \"GAATTC\"\n",
    "- sequence = \"TGCATAGCGAATTCGAGCGT\"\n",
    "\n",
    "## AG_nucl = \"AG\"\n",
    "- sequence = \"TGCATAGCGAATTCGAGCGT\"\n",
    "\n",
    "## Eco13kl_site = \"CCNGG\"\n",
    "- sequence = \"CCTGGAGCCCAGGGAGCGT\""
   ]
  },
  {
   "cell_type": "code",
   "execution_count": 21,
   "metadata": {},
   "outputs": [
    {
     "name": "stdout",
     "output_type": "stream",
     "text": [
      "['GAATTC']\n",
      "['AG', 'AG']\n",
      "[]\n"
     ]
    }
   ],
   "source": [
    "import re\n",
    "\n",
    "eco_r1 = 'GAATTC'\n",
    "AG_nucl = 'AG'\n",
    "eco13kl_site = 'CCNGG'\n",
    "\n",
    "sequence = 'TGCATAGCGAATTCGAGCGT'\n",
    "\n",
    "print re.findall(eco_r1, sequence,0)\n",
    "print re.findall(AG_nucl, sequence,0)\n",
    "print re.findall(eco13kl_site, sequence,0)  #N not found\n"
   ]
  },
  {
   "cell_type": "markdown",
   "metadata": {},
   "source": [
    "## Regex – metacharacters\n",
    "\n",
    "Metacharacters are characters that represent one or multiple characters you want to search for in a string.\n",
    "\n",
    "Some examples of metacharacters:\n",
    "- ^ Matches beginning of line\n",
    "- $ Matches end of line\n",
    "- . Matches any single character except newline\n",
    "- [...] Matches any single character in brackets\n",
    "- [^...] Matches any single character not in brackets\n",
    "- a | b Matches either a or b\n",
    "\n",
    "- Now repeat the Eco13kl.site question using [...]"
   ]
  },
  {
   "cell_type": "code",
   "execution_count": 38,
   "metadata": {},
   "outputs": [
    {
     "name": "stdout",
     "output_type": "stream",
     "text": [
      "['CCTGG', 'CCAGG']\n"
     ]
    }
   ],
   "source": [
    "## [ACTG] = A|C|T|G\n",
    "\n",
    "eco13kl_site = 'CC[ACTG]GG'\n",
    "\n",
    "sequence = \"CCTGGAGCCCAGGGAGCGT\"\n",
    "\n",
    "print re.findall(eco13kl_site, sequence,0)"
   ]
  },
  {
   "cell_type": "markdown",
   "metadata": {},
   "source": [
    "# Regex – exercise\n",
    "\n",
    "Explore the regex listed using the script below, try to find out what the difference is and why:\n",
    "1. CC vs ^CC \n",
    "2. G\\*G vs G.\\*G \n",
    "3. GT$ vs GT \n",
    "4. [AC] vs [^AC] \n",
    "5. GAG|GAC vs CAG|GAG \n",
    "6. TGA|TGG vs TG[AG]\n",
    "7. CC\\* vs CC+\n",
    "8. CC{1,2} vs CC {1,}\n",
    "9. \\w\\w\\w vs \\w\\w\\s\n",
    "10. \\d\\d\\S vs \\d\\d\\D"
   ]
  },
  {
   "cell_type": "code",
   "execution_count": 46,
   "metadata": {},
   "outputs": [
    {
     "name": "stdout",
     "output_type": "stream",
     "text": [
      "['23C']\n"
     ]
    }
   ],
   "source": [
    "\n",
    "line = \"CCTGGAG123CCCCAGGTGACGT\\nTGT\"\n",
    "find_output = re.findall(\"\\d\\d\\D\",line)\n",
    "print find_output\n",
    "\n",
    "###^^CC does beginning of the line contain CC\n",
    "## G*G find G or GG\n",
    "## G.*G find all encompassed by G\n",
    "## $ find last\n",
    "### [AC] find a or c\n",
    "###[^AC] find not a or c\n",
    "### find ... | or ...\n",
    "## TG[AG] find TG plus A or G\n",
    "### CC* find c or many C's\n",
    "### CC+ find two or more C's\n",
    "## CC{1,2} find either two or three C's\n",
    "## CC{1,} find either two or more C's\n",
    "### w\\w\\w = any character next to any character next to any character = 3 characters = codon\n",
    "# w\\w\\s = any character next to any character next to \\n\n",
    "# d\\d\\S = find three numbers\n",
    "# d\\d\\D = find two numbers and one character"
   ]
  },
  {
   "cell_type": "markdown",
   "metadata": {},
   "source": [
    "# Regex - Raw string notation\n",
    "\\>\\>\\> find_output = re.findall(\"\\\\\\\\\\\\\\\\\",line)\n",
    "\n",
    "This option searches for (escapes!) (\\\\)\\\\ (\\\\)\\ --> \\\\\\\\\n",
    "\n",
    "\\>\\>\\> find_output = re.findall(r\"\\\\\\\\\",line)\n",
    "\n",
    "This option searches for \\\\\\\\ --> \\\\\\\\"
   ]
  },
  {
   "cell_type": "code",
   "execution_count": 47,
   "metadata": {},
   "outputs": [
    {
     "name": "stdout",
     "output_type": "stream",
     "text": [
      "['\\\\']\n"
     ]
    }
   ],
   "source": [
    "line = \"this\\nis\\na\\\\ntest\"\n",
    "find_output = re.findall(\"\\\\\\\\\",line)\n",
    "print find_output"
   ]
  },
  {
   "cell_type": "code",
   "execution_count": 48,
   "metadata": {},
   "outputs": [
    {
     "name": "stdout",
     "output_type": "stream",
     "text": [
      "['\\\\']\n"
     ]
    }
   ],
   "source": [
    "line = \"this\\nis\\na\\\\ntest\"\n",
    "find_output = re.findall(r\"\\\\\",line)\n",
    "print find_output"
   ]
  },
  {
   "cell_type": "markdown",
   "metadata": {},
   "source": [
    "# Regex – other “problems” with strings\n",
    "\n",
    "Execute the regex below, what does it find?"
   ]
  },
  {
   "cell_type": "code",
   "execution_count": 52,
   "metadata": {},
   "outputs": [
    {
     "name": "stdout",
     "output_type": "stream",
     "text": [
      "['CCTGG', 'CCAGG']\n"
     ]
    }
   ],
   "source": [
    "line = \"CctGGAGccCAggGGacGT\"\n",
    "s = line.upper()\n",
    "find_output = re.findall(\"CC[ACTG]GG\",s)\n",
    "print find_output\n",
    "\n",
    "###finds nothing because capitals"
   ]
  },
  {
   "cell_type": "markdown",
   "metadata": {},
   "source": [
    "# Regex – FLAGS – exercise\n",
    "\n",
    "Now try to use the Ignore case flag, what does it find now?\n",
    "\n",
    "Remember that you can also always use string.upper() or .lower()"
   ]
  },
  {
   "cell_type": "code",
   "execution_count": 54,
   "metadata": {},
   "outputs": [
    {
     "name": "stdout",
     "output_type": "stream",
     "text": [
      "['CctGG', 'cCAgg']\n"
     ]
    }
   ],
   "source": [
    "line = \"CctGGAGccCAggGGacGT\"\n",
    "find_output = re.findall(\"(?i)CC[ACTG]GG\",line)\n",
    "print find_output\n",
    "\n",
    "###(?i) = find case insensitive\n",
    "\n",
    "#find_output = re.findall(\"CC[ACTG]GG\",line, re.I) works as well!!!\n",
    "\n",
    "# Type here your code"
   ]
  },
  {
   "cell_type": "markdown",
   "metadata": {},
   "source": [
    "# Regex – FLAGS – exercise – re.S, re.M\n",
    "- Apply re.S on the example below"
   ]
  },
  {
   "cell_type": "code",
   "execution_count": 74,
   "metadata": {},
   "outputs": [
    {
     "name": "stdout",
     "output_type": "stream",
     "text": [
      "['CC\\nAGG']\n"
     ]
    }
   ],
   "source": [
    "line = \"CCTGGAGCCC\\nAGGGGACGT\"\n",
    "find_output = re.findall(\"CC.AGG\",line, re.S)\n",
    "print find_output"
   ]
  },
  {
   "cell_type": "markdown",
   "metadata": {},
   "source": [
    "# Regex – FLAGS – exercise – re.S, re.M\n",
    "- Apply re.M on the example below, and after that combine both the re.S and re.M flag on this example."
   ]
  },
  {
   "cell_type": "code",
   "execution_count": 76,
   "metadata": {},
   "outputs": [
    {
     "name": "stdout",
     "output_type": "stream",
     "text": [
      "['test the multi\\nline flag']\n"
     ]
    }
   ],
   "source": [
    "line = \"a\\nmultiline test\\nto\\ntest the multi\\nline flag\"\n",
    "find_output = re.findall(\"^test.*\",line, re.M|re.S)\n",
    "print find_output"
   ]
  },
  {
   "cell_type": "markdown",
   "metadata": {},
   "source": [
    "# Regex – re.sub – exercise\n",
    "- In the example below correct the sentence using re.sub"
   ]
  },
  {
   "cell_type": "code",
   "execution_count": 83,
   "metadata": {},
   "outputs": [
    {
     "name": "stdout",
     "output_type": "stream",
     "text": [
      "['teh', 'teh']\n",
      "the hedgehog is the most dangerous animal in the world\n"
     ]
    }
   ],
   "source": [
    "line = \"the hedgehog is teh most dangerous animal in teh world\"\n",
    "\n",
    "find_output = re.findall(\"teh\", line, 0)\n",
    "print find_output\n",
    "\n",
    "sub = re.sub(\"teh\", \"the\", line)\n",
    "\n",
    "print sub\n"
   ]
  },
  {
   "cell_type": "markdown",
   "metadata": {},
   "source": [
    "# Regex – re.sub – exercise\n",
    "- In the example below replace the two “colors” by red using re.sub and regex"
   ]
  },
  {
   "cell_type": "code",
   "execution_count": 84,
   "metadata": {},
   "outputs": [
    {
     "name": "stdout",
     "output_type": "stream",
     "text": [
      "My computer should be red and my car should also be red\n"
     ]
    }
   ],
   "source": [
    "line = \"My computer should be grey and my car should also be gray\"\n",
    "\n",
    "sub = re.sub(\"gr[a|e]y\", \"red\", line)\n",
    "\n",
    "print sub\n"
   ]
  },
  {
   "cell_type": "markdown",
   "metadata": {},
   "source": [
    "# Regex – re.split – exercise\n",
    "- Split the line below on the numbers and/including the spaces around them\n",
    "- What happened to the spaces and the numbers within the output?"
   ]
  },
  {
   "cell_type": "code",
   "execution_count": 90,
   "metadata": {
    "scrolled": true
   },
   "outputs": [
    {
     "name": "stdout",
     "output_type": "stream",
     "text": [
      "['You', 'should pay attention', 'will pay attention', 'and otherwise you will fail']\n"
     ]
    }
   ],
   "source": [
    "line = \"You 1 should pay attention 2 will pay attention 3 and otherwise you will fail\"\n",
    "\n",
    "output_line = re.split(\" 1 | 2 | 3 \", line)\n",
    "\n",
    "print output_line\n",
    "\n",
    "##including spaces makes you lose spaces"
   ]
  },
  {
   "cell_type": "markdown",
   "metadata": {},
   "source": [
    "# Regex – re.split – groups – exercise\n",
    "\n",
    "- In the previous exercise you could split the line, however the number and spaces itself were \"lost\".\n",
    "- To keep the split parts of the string we can use groups\n",
    "\n",
    "Exercise:\n",
    "\n",
    "- Split the line again only now use ”(\\s\\*\\d\\s\\*)\" what happens?\n",
    "\n",
    "- And what happens if you use \"(\\s\\*)(\\d)(\\s\\*)\""
   ]
  },
  {
   "cell_type": "code",
   "execution_count": 94,
   "metadata": {},
   "outputs": [
    {
     "name": "stdout",
     "output_type": "stream",
     "text": [
      "['You', ' 1 ', 'should pay attention', ' 2 ', 'will pay attention', ' 3 ', 'and otherwise you will fail']\n",
      "['You', ' ', '1', ' ', 'should pay attention', ' ', '2', ' ', 'will pay attention', ' ', '3', ' ', 'and otherwise you will fail']\n"
     ]
    }
   ],
   "source": [
    "line = \"You 1 should pay attention 2 will pay attention 3 and otherwise you will fail\"\n",
    "\n",
    "output_line = re.split(\"(\\s*\\d\\s*)\" , line)\n",
    "\n",
    "print output_line\n",
    "\n",
    "##\"(\\s*\\d\\s*)\" splits around number, keeps number\n",
    "\n",
    "output_line2 = re.split(\"(\\s*)(\\d)(\\s*)\" , line)\n",
    "\n",
    "print output_line2\n",
    "\n",
    "##\"(\\s*)(\\d)(\\s*)\" splits around number, keeps number, splits on space as well"
   ]
  },
  {
   "cell_type": "code",
   "execution_count": null,
   "metadata": {},
   "outputs": [],
   "source": [
    "line = \"You 1 should pay attention 2 will pay attention 3 and otherwise you will fail\"\n",
    "# Type here your code"
   ]
  },
  {
   "cell_type": "markdown",
   "metadata": {},
   "source": [
    "# Regex – re.sub – groups – exercise\n",
    "- These groups are very handy for also substitutions\n",
    "- See what happens when you use grouping on the line below:\n",
    "- \\g< 1 > stands for group 1 = the first group between ()\n",
    "- \\g< 2 > stands for group 2, etc.."
   ]
  },
  {
   "cell_type": "code",
   "execution_count": 97,
   "metadata": {},
   "outputs": [
    {
     "name": "stdout",
     "output_type": "stream",
     "text": [
      "My computer should be greyblue and my car should also be grayblue\n"
     ]
    }
   ],
   "source": [
    "line = \"My computer should be grey and my car should also be gray\"\n",
    "find_output = re.sub(\"(gr[ae]y)\", \"\\g<1>blue\", line)\n",
    "print find_output"
   ]
  },
  {
   "cell_type": "markdown",
   "metadata": {},
   "source": [
    "# Regex – re.sub – groups – exercise\n",
    "- Try to understand what happens in the example below"
   ]
  },
  {
   "cell_type": "code",
   "execution_count": 98,
   "metadata": {},
   "outputs": [
    {
     "name": "stdout",
     "output_type": "stream",
     "text": [
      "My computer should be greyblue and my car should also be notgrayblack\n"
     ]
    }
   ],
   "source": [
    "line = \"My computer should be grey and my car should also be gray\"\n",
    "find_output = re.sub(\"(gr[ae]y)(\\D*)(gr[ae]y)\", \"\\g<1>blue\\g<2>not\\g<3>black\", line)\n",
    "print find_output\n",
    "\n",
    "###group one is grey adds blue, second group is gray adds in front as 2 not, adds behind as 3rd group black\n"
   ]
  },
  {
   "cell_type": "markdown",
   "metadata": {},
   "source": [
    "# Regex – re.search\n",
    "- example:"
   ]
  },
  {
   "cell_type": "code",
   "execution_count": 103,
   "metadata": {},
   "outputs": [
    {
     "name": "stdout",
     "output_type": "stream",
     "text": [
      "GAATTC\n"
     ]
    }
   ],
   "source": [
    "line = \"TGCATAGCGAATTCGAGCGT\"\n",
    "match_output = re.search(\"GAATTC\",line)\n",
    "print match_output\n",
    "\n",
    "#search does not work like findall, requires .and extra question"
   ]
  },
  {
   "cell_type": "code",
   "execution_count": 100,
   "metadata": {},
   "outputs": [
    {
     "name": "stdout",
     "output_type": "stream",
     "text": [
      "GAATTC site found!\n",
      "GAATTC\n",
      "8\n",
      "14\n",
      "(8, 14)\n"
     ]
    }
   ],
   "source": [
    "if match_output:\n",
    "    print \"GAATTC site found!\"\n",
    "print match_output.group()  #print the group content\n",
    "print match_output.start()  #print the starting position\n",
    "print match_output.end()    #print the ending position\n",
    "print match_output.span()   #print the starting and ending position"
   ]
  },
  {
   "cell_type": "markdown",
   "metadata": {},
   "source": [
    "# Regex – final exercise\n",
    "- We are going to digest the DNA sequence below with two restriction enzymes\n",
    "    - BamH1 G|GATCC\n",
    "    - AccI GT|MKAC (M=A/C, K=G/T)\n",
    "\n",
    "- It is forbidden to use str.split(), str.lower(), str.upper()!\n",
    "\n",
    "Q1: How many times is each restriction enzyme found?\n",
    "\n",
    "Q2: After digestion, how many DNA fragments are there and what is the length of each product (provide a list)?\n",
    "\n",
    "Challenge:\n",
    "\n",
    "Try to answer the questions in as few lines as possible: use groups and nesting"
   ]
  },
  {
   "cell_type": "code",
   "execution_count": 104,
   "metadata": {
    "collapsed": true
   },
   "outputs": [],
   "source": [
    "dna = \"CGTGACCTTGGACCTCACTCACCATGTAGTACTCCTCTGAGAGGAATTGTACTAGAGGTGAAAACCGATAAGAAATCACAGTCTGATATGCGTGTGTGTCGACATGCATAATGTATACCCCTTACTGAGTCGTATGGGAATATCCGGCATGACGGGAGAAGCCGTAGACCAAAGGTGTGAGTGAGCATCGTTGTGAACAGTCTGGGTAAACGCGCATATGTAATGTAGTGGATCCTGACACACTCTGGACAAGGGCTCTCTGGGGAACTTGATTTTACTAATGGACTCCAAGAAGCGACGCGCACTCGGTTATGGCGCGCACACTAAAGCGAGGGATCCTAAAAGCTCATGAAGAGGTTCGATCGCTGACTAGTATGGTTATACCCGACACCGCACTGTCGCGTAGACCGCTCCTAGGATTAAATGATCACCCGCACATTGATGCGCGCGTTGCGGGTGAAAGTAGTGAACCCAAGAGTACTTGCCCGTCCGTGGCTCTAGCGTGCATACGTTACATTTTGACGCCTAAAGGTGTCTTGTCAGAGCACGTCCGGGCACAGTAGCAGATACCGGATATCTCATACGTCCGGAGCAGCGCGCGTACTCAAAGTGTGCCCAAGCTCGCATCCGAATTCGGATCCTGCCTTGCTCCCCTACACAAACTATCACGAATAAGCGCATATAAAGCGTCCACCACCTGTAACTTTACTGACCAAAGCATGTCGAGGCGATTAAAGTGGCCGTATGGACATCACAGCCCGTGCCCGACCATTATTAGCGCCGCTACTTCTCCGCGCGCATGTTGACGCTTCTGATGTAGGGTGTGCGGGTCCCAATTGATATATTTATTCGGAGTTACAAAACTGGTACAGAGGCTGTCCGTGCTCTA\""
   ]
  },
  {
   "cell_type": "code",
   "execution_count": 179,
   "metadata": {},
   "outputs": [
    {
     "name": "stdout",
     "output_type": "stream",
     "text": [
      "[('G', 'GATCC'), ('G', 'GATCC'), ('G', 'GATCC')]\n",
      "3\n",
      "[('GT', 'CGAC'), ('GT', 'ATAC'), ('GT', 'AGAC'), ('GT', 'AGAC')]\n",
      "4\n",
      "CGTGACCTTGGACCTCACTCACCATGTAGTACTCCTCTGAGAGGAATTGTACTAGAGGTGAAAACCGATAAGAAATCACAGTCTGATATGCGTGTGTGT-CGACATGCATAATGT-ATACCCCTTACTGAGTCGTATGGGAATATCCGGCATGACGGGAGAAGCCGT-AGACCAAAGGTGTGAGTGAGCATCGTTGTGAACAGTCTGGGTAAACGCGCATATGTAATGTAGTG-GATCCTGACACACTCTGGACAAGGGCTCTCTGGGGAACTTGATTTTACTAATGGACTCCAAGAAGCGACGCGCACTCGGTTATGGCGCGCACACTAAAGCGAGG-GATCCTAAAAGCTCATGAAGAGGTTCGATCGCTGACTAGTATGGTTATACCCGACACCGCACTGTCGCGT-AGACCGCTCCTAGGATTAAATGATCACCCGCACATTGATGCGCGCGTTGCGGGTGAAAGTAGTGAACCCAAGAGTACTTGCCCGTCCGTGGCTCTAGCGTGCATACGTTACATTTTGACGCCTAAAGGTGTCTTGTCAGAGCACGTCCGGGCACAGTAGCAGATACCGGATATCTCATACGTCCGGAGCAGCGCGCGTACTCAAAGTGTGCCCAAGCTCGCATCCGAATTCG-GATCCTGCCTTGCTCCCCTACACAAACTATCACGAATAAGCGCATATAAAGCGTCCACCACCTGTAACTTTACTGACCAAAGCATGTCGAGGCGATTAAAGTGGCCGTATGGACATCACAGCCCGTGCCCGACCATTATTAGCGCCGCTACTTCTCCGCGCGCATGTTGACGCTTCTGATGTAGGGTGTGCGGGTCCCAATTGATATATTTATTCGGAGTTACAAAACTGGTACAGAGGCTGTCCGTGCTCTA\n",
      "['CGTGACCTTGGACCTCACTCACCATGTAGTACTCCTCTGAGAGGAATTGTACTAGAGGTGAAAACCGATAAGAAATCACAGTCTGATATGCGTGTGTGT', 'CGACATGCATAATGT', 'ATACCCCTTACTGAGTCGTATGGGAATATCCGGCATGACGGGAGAAGCCGT', 'AGACCAAAGGTGTGAGTGAGCATCGTTGTGAACAGTCTGGGTAAACGCGCATATGTAATGTAGTG', 'GATCCTGACACACTCTGGACAAGGGCTCTCTGGGGAACTTGATTTTACTAATGGACTCCAAGAAGCGACGCGCACTCGGTTATGGCGCGCACACTAAAGCGAGG', 'GATCCTAAAAGCTCATGAAGAGGTTCGATCGCTGACTAGTATGGTTATACCCGACACCGCACTGTCGCGT', 'AGACCGCTCCTAGGATTAAATGATCACCCGCACATTGATGCGCGCGTTGCGGGTGAAAGTAGTGAACCCAAGAGTACTTGCCCGTCCGTGGCTCTAGCGTGCATACGTTACATTTTGACGCCTAAAGGTGTCTTGTCAGAGCACGTCCGGGCACAGTAGCAGATACCGGATATCTCATACGTCCGGAGCAGCGCGCGTACTCAAAGTGTGCCCAAGCTCGCATCCGAATTCG', 'GATCCTGCCTTGCTCCCCTACACAAACTATCACGAATAAGCGCATATAAAGCGTCCACCACCTGTAACTTTACTGACCAAAGCATGTCGAGGCGATTAAAGTGGCCGTATGGACATCACAGCCCGTGCCCGACCATTATTAGCGCCGCTACTTCTCCGCGCGCATGTTGACGCTTCTGATGTAGGGTGTGCGGGTCCCAATTGATATATTTATTCGGAGTTACAAAACTGGTACAGAGGCTGTCCGTGCTCTA']\n",
      "8\n",
      "[99, 15, 51, 65, 104, 70, 232, 253]\n"
     ]
    }
   ],
   "source": [
    "BamH1 = \"(G)(GATCC)\"\n",
    "AccI = \"(GT)([AC][GT]AC)\"\n",
    "BA = \"-\"\n",
    "\n",
    "BAM_output = re.findall(BamH1,dna)\n",
    "print BAM_output\n",
    "print len(BAM_output)\n",
    "\n",
    "ACC_output = re.findall(AccI,dna)\n",
    "print ACC_output\n",
    "print len(ACC_output)\n",
    "\n",
    "sub = re.sub( BamH1, \"\\g<1>-\\g<2>\", dna)\n",
    "sub2 = re.sub( AccI, \"\\g<1>-\\g<2>\", sub)\n",
    "\n",
    "print sub2 \n",
    "spl = re.split( BA , sub2)\n",
    "\n",
    "print spl\n",
    "print len(spl)\n",
    "\n",
    "lenfrag = []\n",
    "\n",
    "\n",
    "for i in spl:\n",
    "    lenfrag.append(len(i))\n",
    "print lenfrag"
   ]
  },
  {
   "cell_type": "code",
   "execution_count": null,
   "metadata": {
    "collapsed": true
   },
   "outputs": [],
   "source": []
  }
 ],
 "metadata": {
  "kernelspec": {
   "display_name": "Python 2",
   "language": "python",
   "name": "python2"
  },
  "language_info": {
   "codemirror_mode": {
    "name": "ipython",
    "version": 2
   },
   "file_extension": ".py",
   "mimetype": "text/x-python",
   "name": "python",
   "nbconvert_exporter": "python",
   "pygments_lexer": "ipython2",
   "version": "2.7.13"
  }
 },
 "nbformat": 4,
 "nbformat_minor": 1
}

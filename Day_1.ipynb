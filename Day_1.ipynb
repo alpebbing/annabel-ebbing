{
 "cells": [
  {
   "cell_type": "markdown",
   "metadata": {},
   "source": [
    "# Variables\n",
    "- Lets make a variable: \n",
    "- Execute the code by pressing ctrl + enter\n",
    "    - Name: first_name \n",
    "    - Value: Aridaman"
   ]
  },
  {
   "cell_type": "code",
   "execution_count": 1,
   "metadata": {
    "collapsed": true
   },
   "outputs": [],
   "source": [
    "first_name = \"Annabel\""
   ]
  },
  {
   "cell_type": "markdown",
   "metadata": {},
   "source": [
    "# Exercise:\n",
    "- Print your surname using a new variable. \n",
    "- Can you print both your first and surname?"
   ]
  },
  {
   "cell_type": "code",
   "execution_count": 3,
   "metadata": {},
   "outputs": [
    {
     "name": "stdout",
     "output_type": "stream",
     "text": [
      "Annabel Ebbing\n"
     ]
    }
   ],
   "source": [
    "last_name = \"Ebbing\"\n",
    "print first_name, last_name"
   ]
  },
  {
   "cell_type": "markdown",
   "metadata": {},
   "source": [
    "# Strings - methods \n",
    "- All types have build in methods to manipulate them. \n",
    "- For example: \n",
    "    - my_string.upper() - returns the string in uppercase "
   ]
  },
  {
   "cell_type": "code",
   "execution_count": 7,
   "metadata": {},
   "outputs": [
    {
     "data": {
      "text/plain": [
       "'ACGTCGACGGCTTACGAATTCCGAG'"
      ]
     },
     "execution_count": 7,
     "metadata": {},
     "output_type": "execute_result"
    }
   ],
   "source": [
    "my_string = \"ACGTCGACGGCTTACGaattccgag\"\n",
    "my_string.upper()"
   ]
  },
  {
   "cell_type": "markdown",
   "metadata": {},
   "source": [
    "# Exercise: Strings – Methods\n",
    "- Assign a random number of DNA nucleotides to a variable.\n",
    "- Print the DNA sequence in uppercase \n",
    "- Count the number of A, C, G and T’s within the sequence \n",
    "- Store these numbers in a new variable and print them \n",
    "- Replace all A’s with T’s \n",
    "- Time remaining? \n",
    "    - Try other string methods"
   ]
  },
  {
   "cell_type": "code",
   "execution_count": 27,
   "metadata": {},
   "outputs": [
    {
     "name": "stdout",
     "output_type": "stream",
     "text": [
      "a: 3 c: 2 g: 2 t: 2 A: 3 C: 5 G: 5 T: 3\n"
     ]
    },
    {
     "data": {
      "text/plain": [
       "'TCGTCGTCGGCTTTCGaattccgag'"
      ]
     },
     "execution_count": 27,
     "metadata": {},
     "output_type": "execute_result"
    }
   ],
   "source": [
    "my_string = \"ACGTCGACGGCTTACGaattccgag\"\n",
    "my_string.upper()\n",
    "a = my_string.count('a')\n",
    "c = my_string.count('c')\n",
    "g = my_string.count('g')\n",
    "t = my_string.count('t')\n",
    "A = my_string.count('A')\n",
    "C = my_string.count('C')\n",
    "G = my_string.count('G')\n",
    "T = my_string.count('T')\n",
    "print \"a:\", a , \"c:\", c, \"g:\", g, \"t:\", t,  \"A:\", A, \"C:\", C,  \"G:\", G,  \"T:\", T\n",
    "my_string.replace('A', 'T')"
   ]
  },
  {
   "cell_type": "markdown",
   "metadata": {},
   "source": [
    "# Strings – Operators \n",
    "- \\+ Concatenate a string \n",
    "- \\* Repetition of a string \n",
    "- [n] Slice, returns nth value (Python counts from 0) \n",
    "- [x:y] Range slice, returns the xth to yth value \n",
    "- Not an operator but very useful: \n",
    "    - len(\"ABCDEF\") = 6"
   ]
  },
  {
   "cell_type": "code",
   "execution_count": null,
   "metadata": {
    "collapsed": true
   },
   "outputs": [],
   "source": [
    "\"ABC\" + \"DEF\""
   ]
  },
  {
   "cell_type": "code",
   "execution_count": null,
   "metadata": {
    "collapsed": true
   },
   "outputs": [],
   "source": [
    "\"ABC\" * 2"
   ]
  },
  {
   "cell_type": "code",
   "execution_count": null,
   "metadata": {
    "collapsed": true
   },
   "outputs": [],
   "source": [
    "\"ABCDEF\"[3]"
   ]
  },
  {
   "cell_type": "code",
   "execution_count": null,
   "metadata": {
    "collapsed": true
   },
   "outputs": [],
   "source": [
    "\"ABCDEF\"[2:4]"
   ]
  },
  {
   "cell_type": "code",
   "execution_count": null,
   "metadata": {
    "collapsed": true
   },
   "outputs": [],
   "source": [
    "len(\"ABCDEF\")"
   ]
  },
  {
   "cell_type": "markdown",
   "metadata": {},
   "source": [
    "# Exercise: Strings – Operators\n",
    "- Create two variables and assign a random number of DNA nucleotides to both.\n",
    "- Combine both variables and print \n",
    "- Add 10 copies of the second dna sequence to the combined sequence.\n",
    "- Print the total length of the combined sequence \n",
    "- Print the 5th nucleotide \n",
    "- Print the 7th to the 14th nucleotide \n",
    "- Bonus: print the last character of \"gaattc\" but not by using string[5]"
   ]
  },
  {
   "cell_type": "code",
   "execution_count": null,
   "metadata": {
    "collapsed": true
   },
   "outputs": [],
   "source": [
    "DNA_1 = \"AGCCTCGAACCGGTGGTCGTAGCTGCA\"\n",
    "DNA_2 = \"CTTCTAGCCTCAAGGTTCCGAGTCTCGA\"\n",
    "DNA_3 = DNA_1 + DNA_2\n",
    "print DNA_3\n",
    "DNA_4 = DNA_1 + DNA_2[0:10]\n",
    "print DNA_4\n",
    "print DNA_1[4], DNA_2[4]\n",
    "print DNA_1[6] + DNA_1[13] + DNA_2[6] + DNA_2[13]\n",
    "DNA_5 = \"gaattc\"\n",
    "print DNA_5[-1]"
   ]
  },
  {
   "cell_type": "markdown",
   "metadata": {},
   "source": [
    "# Strings - Special characters\n",
    "- Tabs: \\t \n",
    "- Newlines: \\n \n",
    "- Quotes: \\\" \n",
    "- Backslash: \\\\\\"
   ]
  },
  {
   "cell_type": "code",
   "execution_count": null,
   "metadata": {
    "collapsed": true
   },
   "outputs": [],
   "source": [
    "print \"Tab\\tTab\\nSecond Line\\nPrint out a \\\"backslash\\\" : \\\\\""
   ]
  },
  {
   "cell_type": "markdown",
   "metadata": {},
   "source": [
    "# Comments\n",
    "- Comments start with # \n",
    "- Useful for: \n",
    "    - Explaining code or your program \n",
    "    - Disable parts of your program "
   ]
  },
  {
   "cell_type": "code",
   "execution_count": null,
   "metadata": {
    "collapsed": true
   },
   "outputs": [],
   "source": [
    "# This is an example script using comments\n",
    "print \"Comment example script\"\n",
    "# print \"This will not print\"\n",
    "print \"This will print\""
   ]
  },
  {
   "cell_type": "markdown",
   "metadata": {},
   "source": [
    "# Last exercise on strings \n",
    "- You can let Python ask you to input a variable: \n",
    "    - your_name = raw_input(\"Please type your name:\")\n",
    "    - print your_name\n",
    "- raw_input always returns a string! \n",
    "- Let Python request your first and last name \n",
    "- Print them using \\t, \\n, \\\" and/or \\\\\\ \n",
    "- Play around with this for a couple minutes"
   ]
  },
  {
   "cell_type": "code",
   "execution_count": 2,
   "metadata": {},
   "outputs": [
    {
     "name": "stdout",
     "output_type": "stream",
     "text": [
      "Please type your name:A\n",
      "A\n"
     ]
    }
   ],
   "source": [
    "your_name = raw_input(\"Please type your name:\")\n",
    "print your_name"
   ]
  },
  {
   "cell_type": "code",
   "execution_count": 7,
   "metadata": {},
   "outputs": [
    {
     "name": "stdout",
     "output_type": "stream",
     "text": [
      "Please type in your first and last name: \\ Annabel Ebbing\n",
      "Annabel Ebbing\n"
     ]
    }
   ],
   "source": [
    "your_firstandlast_name = raw_input(\"Please type in your first and last name: \\\\ \")\n",
    "print your_firstandlast_name"
   ]
  },
  {
   "cell_type": "markdown",
   "metadata": {},
   "source": [
    "# Numbers\n",
    "- Integers: 1, 5, etc. \n",
    "- Floats: 1.5, 5.2, etc. \n",
    "- Simple math using numbers (x = 5.0 and y = 2.0) : \n",
    "    - Addition: x + y = 7.0 \n",
    "    - Subtraction: x – y = 3.0 \n",
    "    - Division: x / y = 2.5 \n",
    "    - Multiplication: x * y = 10.0 \n",
    "    - Power: x ** y = 25.0 \n",
    "    - Modulo (remainder): x % y = 1.0 (2+2=4 5-4 = 1) \n",
    "- Python uses the standard order of operations \n",
    "    - 5 * (2+1) = 15"
   ]
  },
  {
   "cell_type": "code",
   "execution_count": null,
   "metadata": {
    "collapsed": true
   },
   "outputs": [],
   "source": [
    "x = 5.0\n",
    "y = 2.0"
   ]
  },
  {
   "cell_type": "code",
   "execution_count": null,
   "metadata": {
    "collapsed": true
   },
   "outputs": [],
   "source": [
    "x + y"
   ]
  },
  {
   "cell_type": "code",
   "execution_count": null,
   "metadata": {
    "collapsed": true
   },
   "outputs": [],
   "source": [
    "x - y"
   ]
  },
  {
   "cell_type": "code",
   "execution_count": null,
   "metadata": {
    "collapsed": true
   },
   "outputs": [],
   "source": [
    "x / y"
   ]
  },
  {
   "cell_type": "code",
   "execution_count": null,
   "metadata": {
    "collapsed": true
   },
   "outputs": [],
   "source": [
    "x * y"
   ]
  },
  {
   "cell_type": "code",
   "execution_count": null,
   "metadata": {
    "collapsed": true
   },
   "outputs": [],
   "source": [
    "x ** y"
   ]
  },
  {
   "cell_type": "code",
   "execution_count": null,
   "metadata": {
    "collapsed": true
   },
   "outputs": [],
   "source": [
    "x % y"
   ]
  },
  {
   "cell_type": "code",
   "execution_count": null,
   "metadata": {
    "collapsed": true
   },
   "outputs": [],
   "source": [
    "5 * (2+1)"
   ]
  },
  {
   "cell_type": "markdown",
   "metadata": {},
   "source": [
    "# Numbers – Exercise \n",
    "- Assign the value 8 to number1 \n",
    "- Assign the value 3 to number2 \n",
    "- Make number3 equal to the division of number1 by number2 \n",
    "- Print the number3 \n",
    "- Does the result make sense? \n",
    "- Once it does, input a DNA sequence and calculate the GC %"
   ]
  },
  {
   "cell_type": "code",
   "execution_count": 45,
   "metadata": {},
   "outputs": [
    {
     "name": "stdout",
     "output_type": "stream",
     "text": [
      "2.66666666667\n",
      "14.0\n",
      "31.0\n",
      "0.451612903226\n"
     ]
    }
   ],
   "source": [
    "number_1 = 8.0\n",
    "number_2 = 3.0\n",
    "number_3 = number_1/number_2\n",
    "print number_3\n",
    "DNA_seq = \"CGCTCAAAAGCTCGATAAAGCTCAGTACGTA\"\n",
    "CG = float( DNA_seq.count('G')) +  float (DNA_seq.count('C') )\n",
    "print CG\n",
    "DNA_len = float (len(DNA_seq))\n",
    "print DNA_len\n",
    "CG_content = CG/DNA_len\n",
    "print CG_content"
   ]
  },
  {
   "cell_type": "markdown",
   "metadata": {},
   "source": [
    "# Converting types \n",
    "\n",
    "- Sometimes we need to convert types \n",
    "    - str(variable) converts variable to a string \n",
    "    - int(variable) converts variable to a integer \n",
    "    - float(variable) converts variable to a float"
   ]
  },
  {
   "cell_type": "code",
   "execution_count": null,
   "metadata": {
    "collapsed": true
   },
   "outputs": [],
   "source": [
    "\"2\" + \"2\""
   ]
  },
  {
   "cell_type": "code",
   "execution_count": null,
   "metadata": {
    "collapsed": true
   },
   "outputs": [],
   "source": [
    "int(\"2\") + int(\"2\") "
   ]
  },
  {
   "cell_type": "code",
   "execution_count": null,
   "metadata": {
    "collapsed": true
   },
   "outputs": [],
   "source": [
    "str(2) + str(2) "
   ]
  },
  {
   "cell_type": "code",
   "execution_count": null,
   "metadata": {
    "collapsed": true
   },
   "outputs": [],
   "source": [
    "int(\"this does not work, why?\")"
   ]
  },
  {
   "cell_type": "code",
   "execution_count": null,
   "metadata": {
    "collapsed": true
   },
   "outputs": [],
   "source": [
    "float(5) / float(2) "
   ]
  },
  {
   "cell_type": "code",
   "execution_count": null,
   "metadata": {
    "collapsed": true
   },
   "outputs": [],
   "source": [
    "int(5.0) / int(2.0)"
   ]
  },
  {
   "cell_type": "markdown",
   "metadata": {},
   "source": [
    "# Last exercise on numbers\n",
    "- Write a script that asks the user for \n",
    "    - his/her name \n",
    "    - length (m) \n",
    "    - weight (kg) \n",
    "- Calculate the bmi of the user \n",
    "    - user_bmi = weight / length2 \n",
    "- Print out with one print command: \n",
    "    - The used formula to calculate bmi and on the next line the name and bmi separated by a tab."
   ]
  },
  {
   "cell_type": "code",
   "execution_count": 6,
   "metadata": {},
   "outputs": [
    {
     "name": "stdout",
     "output_type": "stream",
     "text": [
      "Please enter your name:a\n",
      "Please enter your length in meters:1.58\n",
      "Please enter your weight:56\n",
      "BMI \t22.4323025156\n"
     ]
    }
   ],
   "source": [
    "your_name = raw_input(\"Please enter your name:\")\n",
    "your_length = float (raw_input(\"Please enter your length in meters:\"))\n",
    "your_weight =  float (raw_input (\"Please enter your weight:\"))\n",
    "\n",
    "user_bmi = your_weight/(your_length*your_length)\n",
    "print \"BMI \\t\" , user_bmi\n"
   ]
  },
  {
   "cell_type": "markdown",
   "metadata": {},
   "source": [
    "# Boolean: True or False \n",
    "- Booleans are the outcome when you compare or test variables \n",
    "- Examples:"
   ]
  },
  {
   "cell_type": "code",
   "execution_count": null,
   "metadata": {
    "collapsed": true
   },
   "outputs": [],
   "source": [
    "x = 2\n",
    "x < 3"
   ]
  },
  {
   "cell_type": "code",
   "execution_count": null,
   "metadata": {
    "collapsed": true
   },
   "outputs": [],
   "source": [
    "x = \"yes\" \n",
    "x == \"no\""
   ]
  },
  {
   "cell_type": "markdown",
   "metadata": {},
   "source": [
    "## Operators for comparison \n",
    "- < less than \n",
    "- <= less than or equal to \n",
    "- \\> greater than \n",
    "- \\>= greater than or equal to \n",
    "- == equal\n",
    "- != not equal\n",
    "\n",
    "## Boolean – exercise\n",
    "- Below are a couple comparisons. Try to guess the result before executing the comparisons in python."
   ]
  },
  {
   "cell_type": "code",
   "execution_count": 7,
   "metadata": {},
   "outputs": [
    {
     "data": {
      "text/plain": [
       "True"
      ]
     },
     "execution_count": 7,
     "metadata": {},
     "output_type": "execute_result"
    }
   ],
   "source": [
    "5 > 4"
   ]
  },
  {
   "cell_type": "code",
   "execution_count": null,
   "metadata": {
    "collapsed": true
   },
   "outputs": [],
   "source": [
    "3 < 5"
   ]
  },
  {
   "cell_type": "code",
   "execution_count": null,
   "metadata": {
    "collapsed": true
   },
   "outputs": [],
   "source": [
    "4 == 4"
   ]
  },
  {
   "cell_type": "code",
   "execution_count": null,
   "metadata": {
    "collapsed": true
   },
   "outputs": [],
   "source": [
    "4 <= 4"
   ]
  },
  {
   "cell_type": "code",
   "execution_count": null,
   "metadata": {
    "collapsed": true
   },
   "outputs": [],
   "source": [
    "4 >= 3"
   ]
  },
  {
   "cell_type": "code",
   "execution_count": 10,
   "metadata": {},
   "outputs": [
    {
     "data": {
      "text/plain": [
       "False"
      ]
     },
     "execution_count": 10,
     "metadata": {},
     "output_type": "execute_result"
    }
   ],
   "source": [
    "3 != 3"
   ]
  },
  {
   "cell_type": "code",
   "execution_count": 8,
   "metadata": {},
   "outputs": [
    {
     "data": {
      "text/plain": [
       "True"
      ]
     },
     "execution_count": 8,
     "metadata": {},
     "output_type": "execute_result"
    }
   ],
   "source": [
    "\"yes\" != \"no\""
   ]
  },
  {
   "cell_type": "code",
   "execution_count": 9,
   "metadata": {},
   "outputs": [
    {
     "data": {
      "text/plain": [
       "True"
      ]
     },
     "execution_count": 9,
     "metadata": {},
     "output_type": "execute_result"
    }
   ],
   "source": [
    "\"yes\" == \"yes\""
   ]
  },
  {
   "cell_type": "markdown",
   "metadata": {},
   "source": [
    "# Boolean – exercise \n",
    "- Just like before, try to guess the result before executing the comparisons"
   ]
  },
  {
   "cell_type": "code",
   "execution_count": null,
   "metadata": {
    "collapsed": true
   },
   "outputs": [],
   "source": [
    "5 > 3 and 5 > 1"
   ]
  },
  {
   "cell_type": "code",
   "execution_count": null,
   "metadata": {
    "collapsed": true
   },
   "outputs": [],
   "source": [
    "5 < 3 or 5 > 1"
   ]
  },
  {
   "cell_type": "code",
   "execution_count": 12,
   "metadata": {},
   "outputs": [
    {
     "data": {
      "text/plain": [
       "False"
      ]
     },
     "execution_count": 12,
     "metadata": {},
     "output_type": "execute_result"
    }
   ],
   "source": [
    "not 5 > 3"
   ]
  },
  {
   "cell_type": "code",
   "execution_count": 13,
   "metadata": {},
   "outputs": [
    {
     "data": {
      "text/plain": [
       "True"
      ]
     },
     "execution_count": 13,
     "metadata": {},
     "output_type": "execute_result"
    }
   ],
   "source": [
    "not 5 > 3 or 5 > 1"
   ]
  },
  {
   "cell_type": "code",
   "execution_count": 14,
   "metadata": {},
   "outputs": [
    {
     "data": {
      "text/plain": [
       "False"
      ]
     },
     "execution_count": 14,
     "metadata": {},
     "output_type": "execute_result"
    }
   ],
   "source": [
    "not (5 > 3 or 5 > 1)"
   ]
  },
  {
   "cell_type": "markdown",
   "metadata": {},
   "source": [
    "# Control flow – if / else / elif\n",
    "- With if, else and elif we can control the execution of certain parts of a program. \n",
    "    - if (condition):\n",
    "    - < tab > do something \n",
    "- Example: "
   ]
  },
  {
   "cell_type": "code",
   "execution_count": null,
   "metadata": {
    "collapsed": true
   },
   "outputs": [],
   "source": [
    "x = 5\n",
    "if (x < 0): \n",
    "    print \"x is negative\"\n",
    "elif (x > 0): \n",
    "    print \"x is positive\"\n",
    "else: \n",
    "    print \"x is 0\""
   ]
  },
  {
   "cell_type": "markdown",
   "metadata": {},
   "source": [
    "# Control flow – if – exercise \n",
    "- Write a script that asks the user for a nucleotide \n",
    "- Check whether the nucleotide is a adenine, thymine, cytosine or guanine \n",
    "- Print out the nucleotide type or an error message if the input is not a nucleotide"
   ]
  },
  {
   "cell_type": "code",
   "execution_count": 36,
   "metadata": {},
   "outputs": [
    {
     "name": "stdout",
     "output_type": "stream",
     "text": [
      "Please enter a nucleotide: u\n",
      "your input in not a nucleotide\n"
     ]
    }
   ],
   "source": [
    "your_nucleotide = str( raw_input(\"Please enter a nucleotide: \"))\n",
    "if (your_nucleotide == \"A\"):\n",
    "    print \"your nucleotide = Adenine\"\n",
    "elif (your_nucleotide == \"C\"):\n",
    "    print \"your nucleotide = Cytosine\"\n",
    "elif (your_nucleotide == \"G\"):\n",
    "    print \"your nucleotide = Guanine\"\n",
    "elif (your_nucleotide == \"T\"):\n",
    "    print \"your nucleotide = Thymine\"\n",
    "else : \n",
    "    print \"your input in not a nucleotide\""
   ]
  },
  {
   "cell_type": "markdown",
   "metadata": {},
   "source": [
    "# Loops – while \n",
    "- while <condition>: \n",
    "- < tab > do something"
   ]
  },
  {
   "cell_type": "code",
   "execution_count": null,
   "metadata": {
    "collapsed": true
   },
   "outputs": [],
   "source": [
    "number = float(raw_input(\"Please provide a number: \"))\n",
    "while number < 20:\n",
    "    print number\n",
    "    number += 1"
   ]
  },
  {
   "cell_type": "markdown",
   "metadata": {},
   "source": [
    "# Loops – while – exercise\n",
    "- Ask the user to enter some DNA sequence \n",
    "- As long as the length of the DNA sequence is smaller than 100 keep the user asking for more DNA sequence and add it to the piece you already have \n",
    "- Once you have more than 100 nucleotides print the result"
   ]
  },
  {
   "cell_type": "code",
   "execution_count": null,
   "metadata": {},
   "outputs": [
    {
     "name": "stdout",
     "output_type": "stream",
     "text": [
      "Please enter more DNA sequence, it is currently below 100 bases:dlfjdsflkjdslfjds\n"
     ]
    }
   ],
   "source": [
    "#DNA_seq = str( raw_input(\"Please enter a DNA sequence:\"))\n",
    "DNA_seq=\"\"\n",
    "while int(len(DNA_seq)) < 100:\n",
    "    DNA_seq2 = str( raw_input(\"Please enter more DNA sequence, it is currently below 100 bases:\"))\n",
    "    DNA_seq += DNA_seq2"
   ]
  },
  {
   "cell_type": "markdown",
   "metadata": {},
   "source": [
    "# Loops – for \n",
    "- for <variable> in <string>: \n",
    "- < tab > do something"
   ]
  },
  {
   "cell_type": "code",
   "execution_count": null,
   "metadata": {
    "collapsed": true
   },
   "outputs": [],
   "source": [
    "string = \"my string\"\n",
    "for char in string:\n",
    "    print char"
   ]
  },
  {
   "cell_type": "markdown",
   "metadata": {},
   "source": [
    "# Loops – for – exercise\n",
    "- Ask the user for a DNA code of exactly 10 nucleotides, and check this \n",
    "- Using “for” start at nucleotide 1 and print one by one until and including nucleotide 5 \n",
    "- Time remaining? \n",
    "- Ask the user for a random DNA code with a minimum length of 3 nucleotides and print the last 3 nucleotides going backwards"
   ]
  },
  {
   "cell_type": "code",
   "execution_count": 2,
   "metadata": {},
   "outputs": [
    {
     "name": "stdout",
     "output_type": "stream",
     "text": [
      "your sequence in smaller than 10nt, add nt:CGCGCGCGCG\n",
      "C\n",
      "G\n",
      "C\n",
      "G\n",
      "C\n"
     ]
    }
   ],
   "source": [
    "DNA = \"\"\n",
    "while int(len(DNA)) < 10:\n",
    "    DNA2 = str( raw_input(\"your sequence in smaller than 10nt, add nt:\"))\n",
    "    DNA += DNA2\n",
    "while int(len(DNA)) > 10:\n",
    "    DNA2 = str( raw_input(\"your sequence is longer than 10nt, please re-enter:\"))\n",
    "    DNA = DNA2\n",
    "    \n",
    "for char in DNA[0:5]:\n",
    "    print char "
   ]
  },
  {
   "cell_type": "code",
   "execution_count": 31,
   "metadata": {},
   "outputs": [
    {
     "name": "stdout",
     "output_type": "stream",
     "text": [
      "your sequence in smaller than 3nt, add nt:ccgatc3\n",
      "3ct\n",
      "3\n",
      "c\n",
      "t\n"
     ]
    }
   ],
   "source": [
    "DNA = \"\"\n",
    "while int(len(DNA)) < 3:\n",
    "    DNA2 = str( raw_input(\"your sequence in smaller than 3nt, add nt:\"))\n",
    "    DNA += DNA2\n",
    "    \n",
    "res = \"\"\n",
    "    \n",
    "for char in DNA[-3:]:\n",
    "    res += char\n",
    "\n",
    "print(\"\".join(reversed(res)))\n",
    "\n",
    "\n",
    "for char in DNA[:-4:-1]:\n",
    "    print char"
   ]
  }
 ],
 "metadata": {
  "kernelspec": {
   "display_name": "Python 2",
   "language": "python",
   "name": "python2"
  },
  "language_info": {
   "codemirror_mode": {
    "name": "ipython",
    "version": 2
   },
   "file_extension": ".py",
   "mimetype": "text/x-python",
   "name": "python",
   "nbconvert_exporter": "python",
   "pygments_lexer": "ipython2",
   "version": "2.7.13"
  }
 },
 "nbformat": 4,
 "nbformat_minor": 1
}

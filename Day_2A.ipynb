{
 "cells": [
  {
   "cell_type": "markdown",
   "metadata": {},
   "source": [
    "# Lists\n",
    "- Lets make a list: \n",
    "- Execute the code by pressing ctrl + enter\n",
    "    - Name: my_list \n",
    "    - Value: []"
   ]
  },
  {
   "cell_type": "code",
   "execution_count": 1,
   "metadata": {
    "collapsed": true
   },
   "outputs": [],
   "source": [
    "# Write here your code to make an empty list\n",
    "my_list = []"
   ]
  },
  {
   "cell_type": "markdown",
   "metadata": {},
   "source": [
    "### Write your code to make lists: \n",
    "- empty list which can hold 4 items\n",
    "- list called molecules containing elements: DNA, RNA, Protein and Lipid\n",
    "- containing 4 sequences\n",
    "- containing at least 1 string, 1 integer, and 1 boolean"
   ]
  },
  {
   "cell_type": "code",
   "execution_count": 6,
   "metadata": {},
   "outputs": [
    {
     "name": "stdout",
     "output_type": "stream",
     "text": [
      "['cagagta', 4, True, 'x > 10']\n"
     ]
    }
   ],
   "source": [
    "# Write here your code to make lists\n",
    "my_list = []*4\n",
    "molecules = ['DNA', 'RNA', 'Protein', 'Lipid']\n",
    "seqs = [\"cgcgagact\", \"cgatcgat\", \"cgatcgta\", \"gatcgat\"]\n",
    "mixed_list = [\"cagagta\", 4, True , 'x > 10']\n",
    "print mixed_list"
   ]
  },
  {
   "cell_type": "markdown",
   "metadata": {},
   "source": [
    "## Accessing Lists\n",
    "\n",
    "Using the lists that you have created, check what is stored at index 1 of the list 'molecules'"
   ]
  },
  {
   "cell_type": "code",
   "execution_count": 19,
   "metadata": {},
   "outputs": [
    {
     "data": {
      "text/plain": [
       "1"
      ]
     },
     "execution_count": 19,
     "metadata": {},
     "output_type": "execute_result"
    }
   ],
   "source": [
    "molecules[1]\n",
    "\n",
    "# What is the index for 'DNA' in the list molecules?\n",
    "#0\n",
    "# Try command list.index(object)\n",
    "molecules.index(\"RNA\")"
   ]
  },
  {
   "cell_type": "markdown",
   "metadata": {},
   "source": [
    "# Lists – Exercise\n",
    "\n",
    "1. Create the following 3 string variables with their restriction sites:\n",
    "    * eco_r1  : gaattc\n",
    "    * bam_h1  : ggatcc\n",
    "    * hind3   : aagctt\n",
    "2. Make a list called **restriction_enzymes** containing the 3 restriction sites.\n",
    "\n",
    "3. Using a single command print the restriction sites in the list on 3 different lines.\n",
    "\n",
    "4. Print the first letter of **eco_r1** using the list."
   ]
  },
  {
   "cell_type": "code",
   "execution_count": 112,
   "metadata": {},
   "outputs": [
    {
     "name": "stdout",
     "output_type": "stream",
     "text": [
      "eco_r1:  gaattc \n",
      "bam_h1: ggatcc \n",
      "hind3: aagctt\n"
     ]
    },
    {
     "data": {
      "text/plain": [
       "'Gaattc'"
      ]
     },
     "execution_count": 112,
     "metadata": {},
     "output_type": "execute_result"
    }
   ],
   "source": [
    "eco_r1 = \"gaattc\"\n",
    "bam_h1 = \"ggatcc\"\n",
    "hind3 = \"aagctt\"\n",
    "\n",
    "restriction_enzymes = [\"gaattc\", \"ggatcc\", \"aagctt\"]\n",
    "\n",
    "\n",
    "print \"eco_r1: \",  restriction_enzymes[0], \"\\n\", \"bam_h1:\", restriction_enzymes[1], \"\\n\", \"hind3:\",restriction_enzymes[2]\n",
    "\n",
    "restriction_enzymes[0][0]\n",
    "\n",
    "restriction_enzymes[0].capitalize()\n",
    "\n",
    "# Bonus question: Change first letter of eco_r1 restriction site from g to G using list 'restriction_enzymes'"
   ]
  },
  {
   "cell_type": "markdown",
   "metadata": {},
   "source": [
    "# Basic List operations\n",
    "\n",
    "Adding (concatenate) two lists\n",
    "\n",
    "Repeating items in list\n",
    "\n",
    "Compare two lists: cmp(L1, L2)\n",
    "\n",
    "Length of a list: len(L1)\n",
    "\n",
    "Maximum value: max(L1)\n",
    "\n",
    "Minimum value: min(L1)"
   ]
  },
  {
   "cell_type": "code",
   "execution_count": 53,
   "metadata": {},
   "outputs": [
    {
     "name": "stdout",
     "output_type": "stream",
     "text": [
      "[1, 2, 5, 3, 4, 6]\n",
      "[2]\n",
      "6\n",
      "6\n",
      "1\n"
     ]
    }
   ],
   "source": [
    "# Try some list operations\n",
    "my_list = [1, 2, 5] + [3, 4, 6]\n",
    "print my_list\n",
    "print [2]\n",
    "print len(my_list)\n",
    "print max(my_list)\n",
    "print min(my_list)"
   ]
  },
  {
   "cell_type": "markdown",
   "metadata": {},
   "source": [
    "## Basic List operations - Exercise\n",
    "1. Remember that we made a list of restriction enzymes as:\n",
    "*restriction_enzymes = [eco_r1, bam_h1, hind3]*. \n",
    "Create a new variable *my_enzyme = 'catgac’*\n",
    "\n",
    "2. Make a new list with **my_enzyme** added to the existing list of restriction enzymes. \n",
    "\n",
    "3. Make a new list containing 3 repetitions of *eco_r1*, 4 repetitions of *bam_h1*, and 2 repetitions of *hind3*.\n",
    "\n",
    "4. What is the length of the lists you just created?\n",
    "\n",
    "5. What is the maximum value of the list?\n",
    "\n",
    "6. What is the minimum value of the list? \n"
   ]
  },
  {
   "cell_type": "code",
   "execution_count": 113,
   "metadata": {},
   "outputs": [
    {
     "name": "stdout",
     "output_type": "stream",
     "text": [
      "['gaattc', 'ggatcc', 'aagctt']\n",
      "catgac\n",
      "['gaattc', 'ggatcc', 'aagctt', 'catgac']\n"
     ]
    }
   ],
   "source": [
    "print restriction_enzymes\n",
    "my_enzyme = 'catgac' \n",
    "print my_enzyme\n",
    "restriction_enzymes += [my_enzyme]\n",
    "print restriction_enzymes\n"
   ]
  },
  {
   "cell_type": "code",
   "execution_count": 120,
   "metadata": {},
   "outputs": [
    {
     "name": "stdout",
     "output_type": "stream",
     "text": [
      "['gaattc', 'gaattc', 'gaattc', 'ggatcc', 'ggatcc', 'ggatcc', 'ggatcc', 'aagctt', 'aagctt']\n",
      "9\n",
      "ggatcc\n",
      "aagctt\n"
     ]
    }
   ],
   "source": [
    "# Create list with repeated entries and find its length\n",
    "\n",
    "new = [restriction_enzymes[0]]*3 + [restriction_enzymes[1]]*4 + [restriction_enzymes[2]]*2\n",
    "print new \n",
    "print len(new)\n",
    "print max(new)\n",
    "print min(new)"
   ]
  },
  {
   "cell_type": "markdown",
   "metadata": {
    "collapsed": true
   },
   "source": [
    "# Looping Lists - Exercise\n",
    "\n",
    "1. Calculate the number of nucleotides (A, T, G, and C) used by each restriction enzyme? \n",
    "\n",
    "2. Calculate the total number of nucleotides used by all restriction enzymes taken together?\n",
    "\n",
    "3. Use the list entry **seqs** given in the worksheet. How many DNA and RNA sequences are given in seqs? (Hint: try for loop, if elif conditions and string find command)\n",
    "\n",
    "4. Remember EcoRI cuts at restriction site 'gaattc'. Can you check how many sequences given in list seqs have EcoRI motif?\n",
    "\n",
    "    **Bonus Question**: Make a list containing ['A', 'AA', 'AAA', 'AAAA', ….., 20 A]."
   ]
  },
  {
   "cell_type": "code",
   "execution_count": 160,
   "metadata": {
    "scrolled": true
   },
   "outputs": [
    {
     "name": "stdout",
     "output_type": "stream",
     "text": [
      "['gaattc', 'ggatcc', 'aagctt', 'catgac']\n",
      "gaattc\n",
      "ggatcc\n",
      "aagctt\n",
      "catgac\n",
      "0\n",
      "1\n",
      "2\n",
      "3\n",
      "0 gaattc\n",
      "1 ggatcc\n",
      "2 aagctt\n",
      "3 catgac\n",
      "a: 2 \n",
      "c: 1 \n",
      "g: 1 \n",
      "t: 2 \n",
      "\n",
      "a: 1 \n",
      "c: 2 \n",
      "g: 2 \n",
      "t: 1 \n",
      "\n",
      "a: 2 \n",
      "c: 1 \n",
      "g: 1 \n",
      "t: 2 \n",
      "\n",
      "a: 2 \n",
      "c: 2 \n",
      "g: 1 \n",
      "t: 1 \n",
      "\n",
      "6\n",
      "6\n",
      "6\n",
      "6\n",
      "['actgactgactgaattcgactg', 'caucgaucgcgauacacgaucagcuacg', 'augcagacgacguacgu', 'atcgatcgatcgatcacgt', 'atcgtagctactagctagc', 'acgatcgtagctacgta', 'cgaucagucgaucgauccagcga', 'cguacguagcacaugcagucaguauacguacggacgacgac', 'catgactgactgatcgatgctgactgactg', 'atcggatctgaactgactg', 'actgactgactgactg', 'caucgaucgcgauacacgaucagcuacg', 'augcagacgacguacgu', 'atcgatcgaattcgatcgatcacgt', 'atcgtagctactagctagc', 'acgatcgaattcgtagctacgta', 'cgaucagucgaucgauccagcga', 'cguacguagcacaugcagucaguauacguacggacgacgac', 'catgactgactgatcgatgaattcgctgactgactg', 'aucggauccgaaccgacag']\n",
      "11\n",
      "9\n",
      "4\n"
     ]
    }
   ],
   "source": [
    "print restriction_enzymes\n",
    "\n",
    "for item in restriction_enzymes:\n",
    "    print item\n",
    "    \n",
    "\n",
    "# range is a function that returns a list containing arithmetic progressions\n",
    "range(10)\n",
    "\n",
    "# If we need only the index\n",
    "for index in range(len(restriction_enzymes)):\n",
    " print index\n",
    "\n",
    "# If we need both the index and the item\n",
    "for index, item in enumerate(restriction_enzymes):\n",
    "     print index, item    \n",
    "\n",
    "# Q1\n",
    "# Calculate number of nucleotides using for loop\n",
    "#restriction_enzymes = [eco_r1.upper(), ?, ?]\n",
    "\n",
    "for  item in restriction_enzymes:\n",
    "    a = item.count('a')\n",
    "    c = item.count('c')\n",
    "    g = item.count('g')\n",
    "    t = item.count('t')\n",
    "    print \"a:\", a, \"\\n\", \"c:\", c, \"\\n\", \"g:\", g, \"\\n\", \"t:\", t, \"\\n\"\n",
    "# Q2\n",
    "# Calculate number of nucleotides using for loop\n",
    "\n",
    "for  item in restriction_enzymes:\n",
    "    print len(item)\n",
    "\n",
    "print seqs\n",
    "\n",
    "# Q3\n",
    "# Hint: try for loop, if elif conditions and string find command\n",
    "seqs = ['actgactgactgaattcgactg','caucgaucgcgauacacgaucagcuacg','augcagacgacguacgu','atcgatcgatcgatcacgt','atcgtagctactagctagc','acgatcgtagctacgta','cgaucagucgaucgauccagcga','cguacguagcacaugcagucaguauacguacggacgacgac','catgactgactgatcgatgctgactgactg','atcggatctgaactgactg','actgactgactgactg','caucgaucgcgauacacgaucagcuacg','augcagacgacguacgu','atcgatcgaattcgatcgatcacgt','atcgtagctactagctagc','acgatcgaattcgtagctacgta','cgaucagucgaucgauccagcga','cguacguagcacaugcagucaguauacguacggacgacgac','catgactgactgatcgatgaattcgctgactgactg','aucggauccgaaccgacag']\n",
    "\n",
    "DNA = 0\n",
    "RNA = 0\n",
    "\n",
    "for item in seqs:\n",
    "    if (item.find('t')>= 0):\n",
    "        DNA += 1 \n",
    "    elif (item.find('u')>= 0): \n",
    "        RNA += 1\n",
    "\n",
    "print DNA\n",
    "print RNA\n",
    "\n",
    "\n",
    "# Q4\n",
    "# Hint: try for loop and append list\n",
    "\n",
    "count = 0\n",
    "\n",
    "for item in seqs:\n",
    "    if item.find('gaattc') >=0:\n",
    "        count += 1\n",
    "\n",
    "print count"
   ]
  },
  {
   "cell_type": "markdown",
   "metadata": {
    "collapsed": true
   },
   "source": [
    "## Modifying Lists\n",
    "1. Take list **seqs** and add 3 random DNA/RNA sequences at the end of the list\n",
    "\n",
    "2. Take list **seqs** and add 'atcg' as the third sequence of the list\n",
    "\n",
    "3. Create a new sorted list **seq_sort** from **seqs**"
   ]
  },
  {
   "cell_type": "code",
   "execution_count": 179,
   "metadata": {
    "scrolled": true
   },
   "outputs": [
    {
     "name": "stdout",
     "output_type": "stream",
     "text": [
      "['actgactgactgaattcgactg', 'caucgaucgcgauacacgaucagcuacg', 'augcagacgacguacgu', 'atcgatcgatcgatcacgt', 'atcgtagctactagctagc', 'acgatcgtagctacgta', 'cgaucagucgaucgauccagcga', 'cguacguagcacaugcagucaguauacguacggacgacgac', 'catgactgactgatcgatgctgactgactg', 'atcggatctgaactgactg', 'actgactgactgactg', 'caucgaucgcgauacacgaucagcuacg', 'augcagacgacguacgu', 'atcgatcgaattcgatcgatcacgt', 'atcgtagctactagctagc', 'acgatcgaattcgtagctacgta', 'cgaucagucgaucgauccagcga', 'cguacguagcacaugcagucaguauacguacggacgacgac', 'catgactgactgatcgatgaattcgctgactgactg', 'aucggauccgaaccgacag', 'cgcagctg3', 'cgtacgtc3', 'cgaaagct3']\n",
      "['actgactgactgaattcgactg', 'caucgaucgcgauacacgaucagcuacg', 'augcagacgacguacgu', 'atcgatcgatcgatcacgt', 'atcgtagctactagctagc', 'acgatcgtagctacgta', 'cgaucagucgaucgauccagcga', 'cguacguagcacaugcagucaguauacguacggacgacgac', 'catgactgactgatcgatgctgactgactg', 'atcggatctgaactgactg', 'actgactgactgactg', 'caucgaucgcgauacacgaucagcuacg', 'augcagacgacguacgu', 'atcgatcgaattcgatcgatcacgt', 'atcgtagctactagctagc', 'acgatcgaattcgtagctacgta', 'cgaucagucgaucgauccagcga', 'cguacguagcacaugcagucaguauacguacggacgacgac', 'catgactgactgatcgatgaattcgctgactgactg', 'aucggauccgaaccgacag', 'cgcagctg3', 'cgtacgtc3', 'cgaaagct3']\n",
      "['actgactgactgaattcgactg', 'caucgaucgcgauacacgaucagcuacg', 'atcg', 'augcagacgacguacgu', 'atcgatcgatcgatcacgt', 'atcgtagctactagctagc', 'acgatcgtagctacgta', 'cgaucagucgaucgauccagcga', 'cguacguagcacaugcagucaguauacguacggacgacgac', 'catgactgactgatcgatgctgactgactg', 'atcggatctgaactgactg', 'actgactgactgactg', 'caucgaucgcgauacacgaucagcuacg', 'augcagacgacguacgu', 'atcgatcgaattcgatcgatcacgt', 'atcgtagctactagctagc', 'acgatcgaattcgtagctacgta', 'cgaucagucgaucgauccagcga', 'cguacguagcacaugcagucaguauacguacggacgacgac', 'catgactgactgatcgatgaattcgctgactgactg', 'aucggauccgaaccgacag', 'cgcagctg3', 'cgtacgtc3', 'cgaaagct3']\n",
      "['acgatcgaattcgtagctacgta', 'acgatcgtagctacgta', 'actgactgactgaattcgactg', 'actgactgactgactg', 'atcg', 'atcgatcgaattcgatcgatcacgt', 'atcgatcgatcgatcacgt', 'atcggatctgaactgactg', 'atcgtagctactagctagc', 'atcgtagctactagctagc', 'aucggauccgaaccgacag', 'augcagacgacguacgu', 'augcagacgacguacgu', 'catgactgactgatcgatgaattcgctgactgactg', 'catgactgactgatcgatgctgactgactg', 'caucgaucgcgauacacgaucagcuacg', 'caucgaucgcgauacacgaucagcuacg', 'cgaaagct3', 'cgaucagucgaucgauccagcga', 'cgaucagucgaucgauccagcga', 'cgcagctg3', 'cgtacgtc3', 'cguacguagcacaugcagucaguauacguacggacgacgac', 'cguacguagcacaugcagucaguauacguacggacgacgac']\n"
     ]
    }
   ],
   "source": [
    "print seqs\n",
    "\n",
    "seq3 = [\"cgcagctg3\", \"cgtacgtc3\", \"cgaaagct3\"]\n",
    "#seqs += seq3\n",
    "\n",
    "print seqs\n",
    "\n",
    "seq4 = 'atcg'\n",
    "\n",
    "seqs2 = seqs[:2] + ['atcg'] + seqs[2:]\n",
    "\n",
    "print seqs2\n",
    "\n",
    "seqs2.sort()\n",
    "print seqs2\n"
   ]
  },
  {
   "cell_type": "markdown",
   "metadata": {},
   "source": [
    "#### Modifying Lists\n",
    "\n",
    "1. Remove 'atcg' sequence of the list **seqs**\n",
    "\n",
    "2. Print 5th to 10th sequence entry from the lists **seqs** and **seq_sort**"
   ]
  },
  {
   "cell_type": "code",
   "execution_count": 186,
   "metadata": {},
   "outputs": [
    {
     "name": "stdout",
     "output_type": "stream",
     "text": [
      "['acgatcgaattcgtagctacgta', 'acgatcgtagctacgta', 'actgactgactgaattcgactg', 'actgactgactgactg', 'atcgatcgaattcgatcgatcacgt', 'atcgatcgatcgatcacgt', 'atcggatctgaactgactg', 'atcgtagctactagctagc', 'atcgtagctactagctagc', 'aucggauccgaaccgacag', 'augcagacgacguacgu', 'augcagacgacguacgu', 'catgactgactgatcgatgaattcgctgactgactg', 'catgactgactgatcgatgctgactgactg', 'caucgaucgcgauacacgaucagcuacg', 'caucgaucgcgauacacgaucagcuacg', 'cgaaagct3', 'cgaucagucgaucgauccagcga', 'cgaucagucgaucgauccagcga', 'cgcagctg3', 'cgtacgtc3', 'cguacguagcacaugcagucaguauacguacggacgacgac', 'cguacguagcacaugcagucaguauacguacggacgacgac']\n",
      "['acgatcgaattcgtagctacgta', 'acgatcgtagctacgta', 'actgactgactgaattcgactg', 'actgactgactgactg', 'atcgatcgaattcgatcgatcacgt', 'atcgatcgatcgatcacgt', 'atcggatctgaactgactg', 'atcgtagctactagctagc', 'atcgtagctactagctagc', 'aucggauccgaaccgacag', 'augcagacgacguacgu', 'augcagacgacguacgu', 'catgactgactgatcgatgaattcgctgactgactg', 'catgactgactgatcgatgctgactgactg', 'caucgaucgcgauacacgaucagcuacg', 'caucgaucgcgauacacgaucagcuacg', 'cgaaagct3', 'cgaucagucgaucgauccagcga', 'cgaucagucgaucgauccagcga', 'cgcagctg3', 'cgtacgtc3', 'cguacguagcacaugcagucaguauacguacggacgacgac', 'cguacguagcacaugcagucaguauacguacggacgacgac']\n",
      "['atcgatcgaattcgatcgatcacgt', 'atcgatcgatcgatcacgt', 'atcggatctgaactgactg', 'atcgtagctactagctagc', 'atcgtagctactagctagc', 'aucggauccgaaccgacag']\n"
     ]
    }
   ],
   "source": [
    "print seqs2\n",
    "#seqs2.remove('atcg')\n",
    "print seqs2\n",
    "\n",
    "print seqs2[4:10] "
   ]
  },
  {
   "cell_type": "markdown",
   "metadata": {},
   "source": [
    "### Converting strings to Lists\n",
    "\n",
    "Two essential command of list conversion are:\n",
    "- Create a list from a string: StringName.split()\n",
    "- Create a string from lists: ' '.join(ListName)\n",
    "\n",
    "\n",
    "1. Split *'atgcatgcatgc'* sequence using **split()** command \n",
    "2. Create a list by splitting *'atgcatgcatgc'* sequence using 't' as the separator."
   ]
  },
  {
   "cell_type": "code",
   "execution_count": 206,
   "metadata": {},
   "outputs": [
    {
     "name": "stdout",
     "output_type": "stream",
     "text": [
      "['a', 'gca', 'gca', 'gc']\n"
     ]
    }
   ],
   "source": [
    "seq = \"atgcatgcatgc\"\n",
    "\n",
    "seqa = seq.split('t')\n",
    "print seqa\n",
    "# Try split and join command\n",
    "#amino = 'Ala Cys Phe Val Glu'.split('')\n",
    "\n",
    "#''.join(amino)\n",
    "\n",
    "# Try split command"
   ]
  },
  {
   "cell_type": "markdown",
   "metadata": {},
   "source": [
    "# Tuples\n",
    "\n",
    "#### Tuples are Python sequence but unlike lists they are immutable. Tuples use parentheses and lists use square brackets.\n",
    "\n",
    "tup1 = ('physics', 'chemistry', 1997, 2000)\n",
    "\n",
    "tup2 = (1, 2, 3, 4, 5 )\n",
    "\n",
    "tup3 = ('a', 'b', 'c', 'd')\n",
    "\n",
    "#### Accessing tuples:\n",
    "\n",
    "print \"tup1[0]: \", tup1[0]\n",
    "\n",
    "print \"tup2[1:5]: \", tup2[1:5]\n",
    "\n",
    "#### Try to assign tuples:\n",
    "\n",
    "tup1[2] = 2015\n",
    "\n",
    "tup4 = tup2 + tup3"
   ]
  },
  {
   "cell_type": "code",
   "execution_count": 20,
   "metadata": {},
   "outputs": [
    {
     "name": "stdout",
     "output_type": "stream",
     "text": [
      "tup1[1]:  chemistry\n",
      "tup1[1:3]:  ('chemistry', 1997)\n"
     ]
    },
    {
     "ename": "TypeError",
     "evalue": "'tuple' object does not support item assignment",
     "output_type": "error",
     "traceback": [
      "\u001b[1;31m---------------------------------------------------------------------------\u001b[0m",
      "\u001b[1;31mTypeError\u001b[0m                                 Traceback (most recent call last)",
      "\u001b[1;32m<ipython-input-20-2bdf415d245a>\u001b[0m in \u001b[0;36m<module>\u001b[1;34m()\u001b[0m\n\u001b[0;32m      8\u001b[0m \u001b[1;32mprint\u001b[0m \u001b[1;34m\"tup1[1:3]: \"\u001b[0m\u001b[1;33m,\u001b[0m \u001b[0mtup1\u001b[0m\u001b[1;33m[\u001b[0m\u001b[1;36m1\u001b[0m\u001b[1;33m:\u001b[0m\u001b[1;36m3\u001b[0m\u001b[1;33m]\u001b[0m\u001b[1;33m\u001b[0m\u001b[0m\n\u001b[0;32m      9\u001b[0m \u001b[1;33m\u001b[0m\u001b[0m\n\u001b[1;32m---> 10\u001b[1;33m \u001b[0mtup2\u001b[0m\u001b[1;33m[\u001b[0m\u001b[1;36m2\u001b[0m\u001b[1;33m]\u001b[0m \u001b[1;33m=\u001b[0m \u001b[1;36m88\u001b[0m\u001b[1;33m\u001b[0m\u001b[0m\n\u001b[0m\u001b[0;32m     11\u001b[0m \u001b[1;33m\u001b[0m\u001b[0m\n\u001b[0;32m     12\u001b[0m \u001b[1;31m#tup2[2] = 2015\u001b[0m\u001b[1;33m\u001b[0m\u001b[1;33m\u001b[0m\u001b[0m\n",
      "\u001b[1;31mTypeError\u001b[0m: 'tuple' object does not support item assignment"
     ]
    }
   ],
   "source": [
    "tup1 = ('physics', 'chemistry', 1997, 2000)\n",
    "\n",
    "tup2 = (1, 2, 3, 4, 5 )\n",
    "\n",
    "tup3 = ('a', 'b', 'c', 'd')\n",
    "\n",
    "print \"tup1[1]: \", tup1[1]\n",
    "print \"tup1[1:3]: \", tup1[1:3]\n",
    "\n",
    "\n",
    "#tup2[2] = 2015\n",
    "# Make tuples with different items\n",
    "\n",
    "# Access different elements from tuples\n",
    "\n",
    "# Assign different values to tuples\n",
    "#do not change a tuple!"
   ]
  },
  {
   "cell_type": "markdown",
   "metadata": {},
   "source": [
    "## Tuples Exercise\n",
    "\n",
    "Suppose you want to find distance between Carbon\n",
    "atoms in a protein sequence.\n",
    "\n",
    "Assign 4 tuples each containing the 3D co-ordinates:\n",
    "\n",
    "\n",
    "||X|Y|Z|\n",
    "|---|---|---|---|\n",
    "|C29|0.55|1.256|-1.153|\n",
    "|C103|1.28|-1.72|1.24|\n",
    "|C115|1.59|1.73|1.04|\n",
    "|C118|1.36|-1.86|-1.74|\n",
    "\n",
    "Calculate square distance between different carbon atoms. Hint use: (x1-x2)^2+(y1-y2)^2+(z1-z2)^2\n"
   ]
  },
  {
   "cell_type": "code",
   "execution_count": 59,
   "metadata": {},
   "outputs": [
    {
     "name": "stdout",
     "output_type": "stream",
     "text": [
      "0 1 15.115925\n",
      "0 2 6.115525\n",
      "0 3 10.710125\n",
      "1 2 12.0386\n",
      "1 3 8.9064\n",
      "2 3 20.6694\n"
     ]
    }
   ],
   "source": [
    "C29 = (0.55, 1.256, -1.153)\n",
    "C103 = (1.28, -1.72, 1.24)\n",
    "C115 = (1.59, 1.73, 1.04)\n",
    "C118 = (1.36, -1.86, -1.74)\n",
    "\n",
    "C_atoms = []*4\n",
    "C_atoms = [C29, C103, C115, C118] \n",
    "\n",
    "for i in range(len(C_atoms)):\n",
    "    #print i\n",
    "    for j in range(i+1,len(C_atoms)):\n",
    "        x1,y1,z1 = C_atoms[i]\n",
    "        x2,y2,z2 = C_atoms[j]\n",
    "        print i, j, (x1-x2)**2 + (y1-y2)**2 + (z1-z2)**2\n",
    "        #print i,j,(C_atoms[i][0]-C_atoms[j][0])**2 + (C_atoms[i][1]-C_atoms[j][1])**2 + (C_atoms[i][2]-C_atoms[j][2])**2\n",
    "\n",
    "#for x,y,z in C_atoms:\n",
    "#        print(\" {} - {} = {}^2\".format(  ,  , ))\n"
   ]
  },
  {
   "cell_type": "code",
   "execution_count": null,
   "metadata": {
    "collapsed": true
   },
   "outputs": [],
   "source": []
  }
 ],
 "metadata": {
  "kernelspec": {
   "display_name": "Python 2",
   "language": "python",
   "name": "python2"
  },
  "language_info": {
   "codemirror_mode": {
    "name": "ipython",
    "version": 2
   },
   "file_extension": ".py",
   "mimetype": "text/x-python",
   "name": "python",
   "nbconvert_exporter": "python",
   "pygments_lexer": "ipython2",
   "version": "2.7.13"
  }
 },
 "nbformat": 4,
 "nbformat_minor": 1
}
